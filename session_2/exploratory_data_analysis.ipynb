{
 "cells": [
  {
   "cell_type": "markdown",
   "metadata": {},
   "source": [
    "# Exploratory Data Analysis (EDA)"
   ]
  },
  {
   "cell_type": "markdown",
   "metadata": {},
   "source": [
    "This notebook demonstrates essential EDA techniques using the Iris dataset.\n",
    "We'll cover data loading, summary statistics, visualizations, and correlation analysis."
   ]
  },
  {
   "cell_type": "code",
   "execution_count": null,
   "metadata": {},
   "outputs": [],
   "source": [
    "import pandas as pd\n",
    "import numpy as np\n",
    "import matplotlib.pyplot as plt\n",
    "import seaborn as sns\n",
    "from sklearn.datasets import load_iris"
   ]
  },
  {
   "cell_type": "markdown",
   "metadata": {},
   "source": [
    "# 1. Setup and Data Loading"
   ]
  },
  {
   "cell_type": "markdown",
   "metadata": {},
   "source": [
    "The Iris dataset, also known as Fisher's Iris dataset, was introduced by the British statistician and biologist Ronald Fisher in his 1936 paper \"The Use of Multiple Measurements in Taxonomic Problems.\" It has since become one of the most widely used datasets for teaching statistics and machine learning.\n",
    "\n",
    "Dataset Description:\n",
    "- Contains 150 samples from three different species of Iris flowers\n",
    "- Each species has 50 samples\n",
    "- Four features are measured for each sample:\n",
    "  1. Sepal length (cm)\n",
    "  2. Sepal width (cm)\n",
    "  3. Petal length (cm)\n",
    "  4. Petal width (cm)\n",
    "- Three target classes (species):\n",
    "  1. Iris Setosa\n",
    "  2. Iris Versicolor\n",
    "  3. Iris Virginica"
   ]
  },
  {
   "cell_type": "markdown",
   "metadata": {},
   "source": [
    "![Iris Flower Types](../images/iris_types.png)"
   ]
  },
  {
   "cell_type": "code",
   "execution_count": null,
   "metadata": {},
   "outputs": [],
   "source": [
    "# Loading the Iris dataset\n",
    "iris = load_iris()\n",
    "df = pd.DataFrame(\n",
    "    data=np.c_[iris[\"data\"], iris[\"target\"]], columns=iris[\"feature_names\"] + [\"target\"]\n",
    ")\n",
    "df[\"species\"] = pd.Categorical.from_codes(iris.target, iris.target_names)\n",
    "\n",
    "print(\"First few rows of the dataset:\")\n",
    "df.head()"
   ]
  },
  {
   "cell_type": "markdown",
   "metadata": {},
   "source": [
    "# 2. Basic Data Exploration"
   ]
  },
  {
   "cell_type": "markdown",
   "metadata": {},
   "source": [
    "## 2.1 Dataset Information"
   ]
  },
  {
   "cell_type": "code",
   "execution_count": null,
   "metadata": {},
   "outputs": [],
   "source": [
    "# Dataset Information\n",
    "df.info()"
   ]
  },
  {
   "cell_type": "code",
   "execution_count": null,
   "metadata": {},
   "outputs": [],
   "source": [
    "# Basic Statistics\n",
    "df.describe()"
   ]
  },
  {
   "cell_type": "code",
   "execution_count": null,
   "metadata": {},
   "outputs": [],
   "source": [
    "# Missing values\n",
    "df.isnull().sum()"
   ]
  },
  {
   "cell_type": "markdown",
   "metadata": {},
   "source": [
    "## 2.2 Data Distribution Analysis"
   ]
  },
  {
   "cell_type": "markdown",
   "metadata": {},
   "source": [
    "### 2.2.1 Histogram\n",
    "> A histogram is like a bar chart that shows how often different measurements occur. From the histograms in this dataset, we can learn:\n",
    "\n",
    "**Sepal Length Distribution (Top Left)**:\n",
    "- Range: 4.5-8.0 cm\n",
    "- Setosa (blue) tends to have shorter sepals (clustered around 4.5-5.5 cm)\n",
    "- Versicolor (orange) and Virginica (green) overlap considerably\n",
    "- Virginica generally has longer sepals (more measurements in 6.5-8.0 cm range)\n",
    "- Overall distribution appears somewhat normal (bell-shaped)\n",
    "\n",
    "**Sepal Width Distribution (Top Right)**:\n",
    "- Range: 2.0-4.5 cm\n",
    "- Most measurements cluster between 2.5-3.5 cm\n",
    "- High overlap between all three species\n",
    "- Setosa shows some distinction with wider sepals (more measurements in 3.5-4.0 cm)\n",
    "- This feature alone isn't very good for distinguishing species due to high overlap\n",
    "\n",
    "**Petal Length Distribution (Bottom Left)**:\n",
    "- Range: 1-7 cm\n",
    "- Shows very clear separation between species:\n",
    "- Setosa (blue) has distinctly short petals (1-2 cm)\n",
    "- Versicolor (orange) clusters around 3-5 cm\n",
    "- Virginica (green) has longest petals (5-7 cm)\n",
    "- This is probably the best feature for distinguishing Setosa from others\n",
    "\n",
    "**Petal Width Distribution (Bottom Right)**:\n",
    "- Range: 0-2.5 cm\n",
    "- Similar pattern to petal length:\n",
    "- Setosa has very narrow petals (clustered around 0.2-0.5 cm)\n",
    "- Clear separation between Setosa and others\n",
    "- Some overlap between Versicolor and Virginica\n",
    "- Another good feature for identifying Setosa\n"
   ]
  },
  {
   "cell_type": "code",
   "execution_count": null,
   "metadata": {},
   "outputs": [],
   "source": [
    "# Histograms for each feature\n",
    "plt.figure(figsize=(12, 8))\n",
    "for i, feature in enumerate(iris.feature_names):\n",
    "    plt.subplot(2, 2, i + 1)\n",
    "    sns.histplot(data=df, x=feature, hue=\"species\", multiple=\"stack\")\n",
    "    plt.title(f\"Distribution of {feature}\")\n",
    "plt.tight_layout()\n",
    "plt.show()"
   ]
  },
  {
   "cell_type": "markdown",
   "metadata": {},
   "source": [
    "Key Insights:\n",
    "1. Petal measurements (length and width) are better at distinguishing species than sepal measurements\n",
    "2. Setosa is the most distinct species, especially in petal measurements\n",
    "3. Versicolor and Virginica have some overlap in all measurements\n",
    "4. Sepal width shows the most overlap between species, making it the least useful for classification\n",
    "5. The distributions help explain why machine learning models might perform well on this dataset, especially for identifying Setosa"
   ]
  },
  {
   "cell_type": "markdown",
   "metadata": {},
   "source": [
    "### 2.2.2 Box Plots"
   ]
  },
  {
   "cell_type": "markdown",
   "metadata": {},
   "source": [
    "> Box plots are like \"five-number summaries\" in picture form. They show:\n",
    "\n",
    "- The middle line = median (middle number)\n",
    "- The box = where 50% of the data falls\n",
    "- The whiskers = the range of typical values\n",
    "- Dots beyond whiskers = unusual measurements (outliers)"
   ]
  },
  {
   "cell_type": "markdown",
   "metadata": {},
   "source": [
    "Box plots which show the distribution of measurements for each Iris species:\n",
    "\n",
    "**Sepal Length (Top Left)**:\n",
    "- Setosa: Shortest sepals (median ~5cm)\n",
    "- Versicolor: Medium length (median ~6cm)\n",
    "- Virginica: Longest sepals (median ~6.5cm)\n",
    "- Shows clear progression in size from Setosa → Versicolor → Virginica\n",
    "- Some overlap between species, with one outlier in Virginica\n",
    "- Boxes (interquartile ranges) show moderate separation\n",
    "\n",
    "**Sepal Width (Top Right)**:\n",
    "- Most variable feature with significant overlap\n",
    "- Setosa: Widest sepals (median ~3.5cm)\n",
    "- Versicolor and Virginica: Similar widths (median ~3cm)\n",
    "- Several outliers present (dots)\n",
    "- Least useful for species differentiation due to high overlap\n",
    "\n",
    "**Petal Length (Bottom Left)**:\n",
    "- Shows strongest separation between species\n",
    "- Setosa: Very short petals (median ~1.5cm)\n",
    "- Versicolor: Medium length (median ~4.5cm)\n",
    "- Virginica: Longest petals (median ~5.5cm)\n",
    "- Few outliers\n",
    "- Clear separation of Setosa from others\n",
    "- Some overlap between Versicolor and Virginica\n",
    "\n",
    "**Petal Width (Bottom Right)**:\n",
    "- Similar pattern to petal length\n",
    "- Setosa: Very narrow petals (median ~0.2cm)\n",
    "- Versicolor: Medium width (median ~1.3cm)\n",
    "- Virginica: Widest petals (median ~2cm)\n",
    "- Clear separation between species\n",
    "- Minimal overlap between groups"
   ]
  },
  {
   "cell_type": "code",
   "execution_count": null,
   "metadata": {},
   "outputs": [],
   "source": [
    "# Box plots for each feature\n",
    "plt.figure(figsize=(12, 6))\n",
    "for i, feature in enumerate(iris.feature_names):\n",
    "    plt.subplot(2, 2, i + 1)\n",
    "    sns.boxplot(data=df, y=feature, x=\"species\")\n",
    "    plt.title(f\"Box Plot of {feature} by Species\")\n",
    "    plt.xticks(rotation=45)\n",
    "plt.tight_layout()\n",
    "plt.show()"
   ]
  },
  {
   "cell_type": "markdown",
   "metadata": {},
   "source": [
    "Key Insights:\n",
    "1. Petal measurements (length and width) are most useful for species classification\n",
    "2. Setosa is most distinct, especially in petal measurements\n",
    "3. Sepal width shows most overlap, making it least useful for classification\n",
    "4. Virginica generally has larger measurements across all features\n",
    "5. Data is relatively clean with few outliers"
   ]
  },
  {
   "cell_type": "markdown",
   "metadata": {},
   "source": [
    "## 2.3 Relationship Analysis"
   ]
  },
  {
   "cell_type": "markdown",
   "metadata": {},
   "source": [
    "### 2.3.1 Pair Plot"
   ]
  },
  {
   "cell_type": "markdown",
   "metadata": {},
   "source": [
    "This is a comprehensive visualization called a \"pairs plot\" or \"scatter matrix\" that shows relationships between all pairs of features in the Iris dataset."
   ]
  },
  {
   "cell_type": "markdown",
   "metadata": {},
   "source": [
    "This visualization is particularly useful for:\n",
    "- Understanding feature relationships\n",
    "- Identifying the most discriminative features\n",
    "- Detecting patterns and clusters\n",
    "- Spotting potential outliers\n",
    "- Planning machine learning approaches"
   ]
  },
  {
   "cell_type": "code",
   "execution_count": null,
   "metadata": {},
   "outputs": [],
   "source": [
    "# Scatter plot matrix\n",
    "sns.pairplot(df, hue=\"species\", diag_kind=\"hist\")\n",
    "plt.show()"
   ]
  },
  {
   "cell_type": "markdown",
   "metadata": {},
   "source": [
    "**Key Insights**:\n",
    "- Petal measurements are best for species classification\n",
    "- Setosa is the most distinctly separated species\n",
    "- Some overlap exists between versicolor and virginica\n",
    "- Sepal width is least useful for classification\n",
    "- Multiple features together provide better separation than any single feature"
   ]
  },
  {
   "cell_type": "markdown",
   "metadata": {},
   "source": [
    "### 2.3.2 Correlation Matrix"
   ]
  },
  {
   "cell_type": "markdown",
   "metadata": {},
   "source": [
    "The correlation matrix shows how strongly features are related to each other, from -1 (opposite) to +1 (same direction):\n",
    "- Dark red = strong positive correlation (when one increases, the other does too)\n",
    "- Dark blue = strong negative correlation (when one increases, the other decreases)\n",
    "- Light colors = weak correlation"
   ]
  },
  {
   "cell_type": "code",
   "execution_count": null,
   "metadata": {},
   "outputs": [],
   "source": [
    "# Correlation matrix\n",
    "plt.figure(figsize=(10, 8))\n",
    "correlation_matrix = df.drop(\"species\", axis=1).corr()\n",
    "sns.heatmap(correlation_matrix, annot=True, cmap=\"coolwarm\", center=0)\n",
    "plt.title(\"Correlation Matrix\")\n",
    "plt.show()"
   ]
  },
  {
   "cell_type": "markdown",
   "metadata": {},
   "source": [
    "Key insights:\n",
    "- Petal length and width are strongly correlated (dark red)\n",
    "- Sepal width has weak correlations with other features (lighter colors)\n",
    "- This helps us understand which measurements tend to change together"
   ]
  },
  {
   "cell_type": "markdown",
   "metadata": {},
   "source": [
    "## 2.4 Statistical Analysis"
   ]
  },
  {
   "cell_type": "code",
   "execution_count": null,
   "metadata": {},
   "outputs": [],
   "source": [
    "# Group mean values by species\n",
    "df.groupby(\"species\").mean()"
   ]
  },
  {
   "cell_type": "code",
   "execution_count": null,
   "metadata": {},
   "outputs": [],
   "source": [
    "# Standard deviation by species\n",
    "df.groupby(\"species\").std()"
   ]
  },
  {
   "cell_type": "markdown",
   "metadata": {},
   "source": [
    "# 3. Advanced Analysis"
   ]
  },
  {
   "cell_type": "markdown",
   "metadata": {},
   "source": [
    "## 3.1 Distribution Tests"
   ]
  },
  {
   "cell_type": "code",
   "execution_count": null,
   "metadata": {},
   "outputs": [],
   "source": [
    "from scipy import stats"
   ]
  },
  {
   "cell_type": "code",
   "execution_count": null,
   "metadata": {},
   "outputs": [],
   "source": [
    "# Perform normality test for each feature\n",
    "print(\"\\nNormality Tests (Shapiro-Wilk):\")\n",
    "for feature in iris.feature_names:\n",
    "    stat, p_value = stats.shapiro(df[feature])\n",
    "    print(f\"{feature}:\")\n",
    "    print(f\"Statistic: {stat:.4f}, p-value: {p_value:.4f}\")"
   ]
  },
  {
   "cell_type": "markdown",
   "metadata": {},
   "source": [
    "## 3.2 Feature Engineering"
   ]
  },
  {
   "cell_type": "markdown",
   "metadata": {},
   "source": [
    "`petal_ratio` and `sepal_ratio`. These ratios are calculated by dividing the petal and sepal lengths by their respective widths. These new features may enhance our ability to distinguish between different flower species based on their unique petal and sepal proportions.\n",
    "  "
   ]
  },
  {
   "cell_type": "code",
   "execution_count": null,
   "metadata": {},
   "outputs": [],
   "source": [
    "# Create ratio features\n",
    "df[\"petal_ratio\"] = df[\"petal length (cm)\"] / df[\"petal width (cm)\"]\n",
    "df[\"sepal_ratio\"] = df[\"sepal length (cm)\"] / df[\"sepal width (cm)\"]"
   ]
  },
  {
   "cell_type": "markdown",
   "metadata": {},
   "source": [
    "After creating these features, we visualize them using a scatter plot to observe potential patterns or separations among species. This visualization helps us evaluate if these engineered features can provide additional insights for classification or analysis tasks."
   ]
  },
  {
   "cell_type": "code",
   "execution_count": null,
   "metadata": {},
   "outputs": [],
   "source": [
    "# Visualize new features\n",
    "plt.figure(figsize=(10, 5))\n",
    "plt.subplot(1, 2, 1)\n",
    "sns.scatterplot(data=df, x=\"petal_ratio\", y=\"sepal_ratio\", hue=\"species\")\n",
    "plt.title(\"Petal Ratio vs Sepal Ratio\")\n",
    "plt.show()"
   ]
  },
  {
   "cell_type": "markdown",
   "metadata": {},
   "source": [
    "# 4. Key Findings Summary"
   ]
  },
  {
   "cell_type": "markdown",
   "metadata": {},
   "source": [
    "Key Insights from EDA:\n",
    "1. Dataset Structure:\n",
    "   - 150 samples with 4 features and 1 target variable\n",
    "   - No missing values\n",
    "   - Balanced classes (50 samples per species)\n",
    "\n",
    "2. Distribution Patterns:\n",
    "   - Most features show different distributions for each species\n",
    "   - Setosa species is the most distinctly separated\n",
    "   - Versicolor and Virginica show some overlap\n",
    "\n",
    "3. Correlations:\n",
    "   - Strong positive correlation between petal length and petal width\n",
    "   - Moderate correlation between sepal length and petal features\n",
    "   - Sepal width shows weak correlations with other features\n",
    "\n",
    "4. Species Characteristics:\n",
    "   - Setosa: Smallest petals, large sepal width\n",
    "   - Versicolor: Intermediate in most features\n",
    "   - Virginica: Largest in most measurements"
   ]
  },
  {
   "cell_type": "markdown",
   "metadata": {},
   "source": [
    "# 5. Exercises"
   ]
  },
  {
   "cell_type": "markdown",
   "metadata": {},
   "source": [
    "> **Exercise 1:** Calculate the range (max-min) for each feature by species."
   ]
  },
  {
   "cell_type": "code",
   "execution_count": null,
   "metadata": {},
   "outputs": [],
   "source": [
    "# Solution 1\n",
    "ranges = df.groupby(\"species\").agg(lambda x: x.max() - x.min())\n",
    "print(\"\\nRanges by species:\")\n",
    "ranges.head()"
   ]
  },
  {
   "cell_type": "markdown",
   "metadata": {},
   "source": [
    "Range shows the spread of measurements:\n",
    "- Calculated as largest value minus smallest value\n",
    "- Important because it tells us:\n",
    "  - How much variation exists within each species\n",
    "  - Which features vary most/least\n",
    "  - Helps identify unusual measurements"
   ]
  },
  {
   "cell_type": "markdown",
   "metadata": {},
   "source": [
    "> **Exercise 2:** Perform t-tests between species for each feature."
   ]
  },
  {
   "cell_type": "code",
   "execution_count": null,
   "metadata": {},
   "outputs": [],
   "source": [
    "# Solution 2\n",
    "for feature in iris.feature_names:\n",
    "    print(f\"\\nT-tests for {feature}:\")\n",
    "    setosa = df[df[\"species\"] == \"setosa\"][feature]\n",
    "    versicolor = df[df[\"species\"] == \"versicolor\"][feature]\n",
    "    virginica = df[df[\"species\"] == \"virginica\"][feature]\n",
    "\n",
    "    t_stat, p_val = stats.ttest_ind(setosa, versicolor)\n",
    "    print(f\"Setosa vs Versicolor: t={t_stat:.4f}, p={p_val:.4f}\")\n",
    "\n",
    "    t_stat, p_val = stats.ttest_ind(setosa, virginica)\n",
    "    print(f\"Setosa vs Virginica: t={t_stat:.4f}, p={p_val:.4f}\")\n",
    "\n",
    "    t_stat, p_val = stats.ttest_ind(versicolor, virginica)\n",
    "    print(f\"Versicolor vs Virginica: t={t_stat:.4f}, p={p_val:.4f}\")"
   ]
  },
  {
   "cell_type": "markdown",
   "metadata": {},
   "source": [
    "The t-test results here compare the mean values of each feature (sepal length, sepal width, petal length, and petal width) across different species of the Iris dataset (Setosa, Versicolor, and Virginica). Let’s go through what each result implies:\n",
    "\n",
    "1. **T-tests for Sepal Length (cm)**\n",
    "   - **Setosa vs Versicolor**: \\( t = -10.5210 \\), \\( p = 0.0000 \\)\n",
    "   - **Setosa vs Virginica**: \\( t = -15.3862 \\), \\( p = 0.0000 \\)\n",
    "   - **Versicolor vs Virginica**: \\( t = -5.6292 \\), \\( p = 0.0000 \\)\n",
    "\n",
    "   **Interpretation**:\n",
    "   - The negative t-values indicate that, on average, Setosa’s sepal length is smaller than both Versicolor's and Virginica's, and Versicolor’s sepal length is also smaller than Virginica's.\n",
    "   - The p-values are all close to 0 (below 0.05), which suggests the differences in sepal length between each pair of species are statistically significant.\n",
    "\n",
    "2. **T-tests for Sepal Width (cm)**\n",
    "   - **Setosa vs Versicolor**: \\( t = 9.4550 \\), \\( p = 0.0000 \\)\n",
    "   - **Setosa vs Virginica**: \\( t = 6.4503 \\), \\( p = 0.0000 \\)\n",
    "   - **Versicolor vs Virginica**: \\( t = -3.2058 \\), \\( p = 0.0018 \\)\n",
    "\n",
    "   **Interpretation**:\n",
    "   - Positive t-values for Setosa vs Versicolor and Setosa vs Virginica indicate that Setosa has a greater sepal width on average than both Versicolor and Virginica.\n",
    "   - The negative t-value for Versicolor vs Virginica suggests Versicolor has a slightly greater sepal width than Virginica.\n",
    "   - All p-values are below 0.05, indicating these differences in sepal width are statistically significant.\n",
    "\n",
    "3. **T-tests for Petal Length (cm)**\n",
    "   - **Setosa vs Versicolor**: \\( t = -39.4927 \\), \\( p = 0.0000 \\)\n",
    "   - **Setosa vs Virginica**: \\( t = -49.9862 \\), \\( p = 0.0000 \\)\n",
    "   - **Versicolor vs Virginica**: \\( t = -12.6038 \\), \\( p = 0.0000 \\)\n",
    "\n",
    "   **Interpretation**:\n",
    "   - The highly negative t-values suggest that Setosa has a much smaller petal length compared to both Versicolor and Virginica, and Versicolor has a smaller petal length than Virginica.\n",
    "   - With p-values close to 0, these differences are highly significant.\n",
    "\n",
    "4. **T-tests for Petal Width (cm)**\n",
    "   - **Setosa vs Versicolor**: \\( t = -34.0803 \\), \\( p = 0.0000 \\)\n",
    "   - **Setosa vs Virginica**: \\( t = -42.7858 \\), \\( p = 0.0000 \\)\n",
    "   - **Versicolor vs Virginica**: \\( t = -14.6254 \\), \\( p = 0.0000 \\)\n",
    "\n",
    "   **Interpretation**:\n",
    "   - The negative t-values suggest that Setosa has a significantly smaller petal width than both Versicolor and Virginica, and Versicolor has a smaller petal width than Virginica.\n",
    "   - The p-values indicate these differences in petal width are statistically significant.\n",
    "\n",
    "\n",
    "Across all features, the t-tests show statistically significant differences between species, with each pair showing distinct mean values. This suggests that these features (sepal and petal dimensions) are useful in differentiating between Setosa, Versicolor, and Virginica species in the Iris dataset."
   ]
  }
 ],
 "metadata": {
  "kernelspec": {
   "display_name": "venv",
   "language": "python",
   "name": "python3"
  },
  "language_info": {
   "codemirror_mode": {
    "name": "ipython",
    "version": 3
   },
   "file_extension": ".py",
   "mimetype": "text/x-python",
   "name": "python",
   "nbconvert_exporter": "python",
   "pygments_lexer": "ipython3",
   "version": "3.12.7"
  }
 },
 "nbformat": 4,
 "nbformat_minor": 2
}
