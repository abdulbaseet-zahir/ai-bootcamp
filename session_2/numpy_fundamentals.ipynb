{
 "cells": [
  {
   "cell_type": "markdown",
   "metadata": {},
   "source": [
    "# NumPy Fundamentals\n",
    "\n",
    "NumPy (Numerical Python) is the cornerstone of scientific computing and data manipulation in Python, serving as the foundation for machine learning and artificial intelligence applications. Mastering NumPy fundamentals is crucial for success in this AI bootcamp, as it provides the essential tools and concepts that underpin more advanced AI/ML operations.\n",
    "\n",
    "By mastering NumPy fundamentals, you'll be able to:\n",
    "\n",
    "- Implement AI algorithms efficiently\n",
    "- Understand advanced ML concepts more easily\n",
    "- Debug problems in your ML pipeline\n",
    "- Optimize your code for better performance\n",
    "- Contribute to real-world AI projects effectively"
   ]
  },
  {
   "cell_type": "code",
   "execution_count": null,
   "metadata": {},
   "outputs": [],
   "source": [
    "# Import NumPy\n",
    "import numpy as np"
   ]
  },
  {
   "cell_type": "markdown",
   "metadata": {},
   "source": [
    "## 1. NumPy Array Basics"
   ]
  },
  {
   "cell_type": "markdown",
   "metadata": {},
   "source": [
    "### 1.1 Creating Arrays"
   ]
  },
  {
   "cell_type": "code",
   "execution_count": null,
   "metadata": {},
   "outputs": [],
   "source": [
    "array_1d = np.array([1, 2, 3, 4, 5])\n",
    "array_2d = np.array([[1, 2, 3], [4, 5, 6]])\n",
    "\n",
    "print(\"1D Array:\\n\", array_1d)\n",
    "print(\"2D Array:\\n\", array_2d)"
   ]
  },
  {
   "cell_type": "code",
   "execution_count": null,
   "metadata": {},
   "outputs": [],
   "source": [
    "# Special arrays\n",
    "zeros = np.zeros((3, 3))  # 3x3 array of zeros\n",
    "ones = np.ones((2, 4))  # 2x4 array of ones\n",
    "empty = np.empty((2, 2))  # 2x2 uninitialized array\n",
    "identity = np.eye(3)  # 3x3 identity matrix\n",
    "range_array = np.arange(0, 10, 2)  # Array from 0 to 10 with step 2\n",
    "linspace = np.linspace(0, 1, 5)  # 5 evenly spaced numbers from 0 to 1\n",
    "\n",
    "print(\"Zeros:\\n\", zeros)\n",
    "print(\"Ones:\\n\", ones)\n",
    "print(\"Empty:\\n\", empty)\n",
    "print(\"Identity:\\n\", identity)\n",
    "print(\"Range:\\n\", range_array)\n",
    "print(\"Linspace:\\n\", linspace)"
   ]
  },
  {
   "cell_type": "markdown",
   "metadata": {},
   "source": [
    "### 1.2 Array Properties and Attributes"
   ]
  },
  {
   "cell_type": "code",
   "execution_count": null,
   "metadata": {},
   "outputs": [],
   "source": [
    "array_2d = np.array([[1, 2, 3], [4, 5, 6]])\n",
    "print(\"Array:\")\n",
    "print(array_2d)\n",
    "print(\"\\nShape:\", array_2d.shape)  # Dimensions\n",
    "print(\"Size:\", array_2d.size)  # Total elements\n",
    "print(\"Dimension:\", array_2d.ndim)  # Number of dimensions\n",
    "print(\"Data Type:\", array_2d.dtype)  # Data type\n",
    "print(\"Item Size:\", array_2d.itemsize)  # Size in bytes of each element\n",
    "print(\"Memory Usage:\", array_2d.nbytes)  # Total memory in bytes"
   ]
  },
  {
   "cell_type": "markdown",
   "metadata": {},
   "source": [
    "## 2. Array Indexing and Slicing"
   ]
  },
  {
   "cell_type": "markdown",
   "metadata": {},
   "source": [
    "### 2.1 Basic Indexing"
   ]
  },
  {
   "cell_type": "code",
   "execution_count": null,
   "metadata": {},
   "outputs": [],
   "source": [
    "array_3d = np.array([[[1, 2], [3, 4]], [[5, 6], [7, 8]]])\n",
    "print(\"3D Array:\\n\", array_3d)\n",
    "print(\"\\nElement at (0,1,1):\", array_3d[0, 1, 1])  # Access single element\n",
    "print(\"First row of first matrix:\\n\", array_3d[0, 0])"
   ]
  },
  {
   "cell_type": "markdown",
   "metadata": {},
   "source": [
    "### 2.2 Slicing"
   ]
  },
  {
   "cell_type": "code",
   "execution_count": null,
   "metadata": {},
   "outputs": [],
   "source": [
    "array_2d = np.array([[1, 2, 3, 4], [5, 6, 7, 8], [9, 10, 11, 12]])\n",
    "print(\"Original Array:\\n\", array_2d)"
   ]
  },
  {
   "cell_type": "code",
   "execution_count": null,
   "metadata": {},
   "outputs": [],
   "source": [
    "# Basic slicing\n",
    "print(\"\\nFirst two rows:\\n\", array_2d[:2])\n",
    "print(\"\\nLast two columns:\\n\", array_2d[:, 2:])\n",
    "print(\"\\nButtom right corner:\\n\", array_2d[-1, -1])\n",
    "print(\"\\nlast corner:\\n\", array_2d[1:, 2:])"
   ]
  },
  {
   "cell_type": "markdown",
   "metadata": {},
   "source": [
    "### 2.3 Boolean Indexing"
   ]
  },
  {
   "cell_type": "code",
   "execution_count": null,
   "metadata": {},
   "outputs": [],
   "source": [
    "# Boolean indexing\n",
    "array = np.array([1, 2, 3, 4, 5, 6, 7, 8, 9])\n",
    "bool_idx = array > 5\n",
    "print(\"Array:\", array)\n",
    "print(\"Boolean Index:\", bool_idx)\n",
    "print(\"Elements > 5:\", array[bool_idx])"
   ]
  },
  {
   "cell_type": "code",
   "execution_count": null,
   "metadata": {},
   "outputs": [],
   "source": [
    "# Combined boolean operations\n",
    "print(\"Elements between 3 and 7:\", array[(array > 3) & (array < 7)])"
   ]
  },
  {
   "cell_type": "markdown",
   "metadata": {},
   "source": [
    "## 3. Array Operations"
   ]
  },
  {
   "cell_type": "markdown",
   "metadata": {},
   "source": [
    "### 3.1 Mathematical Operations"
   ]
  },
  {
   "cell_type": "code",
   "execution_count": null,
   "metadata": {},
   "outputs": [],
   "source": [
    "a = np.array([1, 2, 3])\n",
    "b = np.array([4, 5, 6])\n",
    "\n",
    "print(\"Array a:\", a)\n",
    "print(\"Array b:\", b)"
   ]
  },
  {
   "cell_type": "code",
   "execution_count": null,
   "metadata": {},
   "outputs": [],
   "source": [
    "# Element-wise operations\n",
    "print(\"\\nAddition:\", a + b)\n",
    "print(\"Subtraction:\", a - b)\n",
    "print(\"Multiplication:\", a * b)\n",
    "print(\"Division:\", a / b)\n",
    "print(\"Exponentiation:\", a**2)"
   ]
  },
  {
   "cell_type": "code",
   "execution_count": null,
   "metadata": {},
   "outputs": [],
   "source": [
    "# Universal functions (ufuncs)\n",
    "print(\"\\nSquare root:\", np.sqrt(a))\n",
    "print(\"Exponential:\", np.exp(a))\n",
    "print(\"Sine:\", np.sin(a))"
   ]
  },
  {
   "cell_type": "markdown",
   "metadata": {},
   "source": [
    "### 3.2 Statistical Operations"
   ]
  },
  {
   "cell_type": "markdown",
   "metadata": {},
   "source": [
    "> **Mean (Average):** The mean is the sum of all values divided by the number of values."
   ]
  },
  {
   "cell_type": "code",
   "execution_count": null,
   "metadata": {},
   "outputs": [],
   "source": [
    "array_2d = np.array([[1, 2, 3], [4, 5, 6], [7, 8, 9]])\n",
    "print(\"Array:\\n\", array_2d)\n",
    "\n",
    "print(\"\\nMean:\", np.mean(array_2d))\n",
    "print(\"Mean by column:\", np.mean(array_2d, axis=0))\n",
    "print(\"Mean by row:\", np.mean(array_2d, axis=1))\n",
    "print(\"Standard deviation:\", np.std(array_2d))\n",
    "print(\"Minimum:\", np.min(array_2d))\n",
    "print(\"Maximum:\", np.max(array_2d))\n",
    "print(\"Sum:\", np.sum(array_2d))"
   ]
  },
  {
   "cell_type": "markdown",
   "metadata": {},
   "source": [
    "### 3.3 Linear Algebra Operations"
   ]
  },
  {
   "cell_type": "code",
   "execution_count": null,
   "metadata": {},
   "outputs": [],
   "source": [
    "a = np.array([[0, 3, 5], [5, 5, 2]])\n",
    "b = np.array([[3, 4], [3, -2], [4, -2]])\n",
    "\n",
    "print(\"Matrix a:\\n\", a)\n",
    "print(\"\\nMatrix b:\\n\", b)"
   ]
  },
  {
   "cell_type": "markdown",
   "metadata": {},
   "source": [
    "Explore an animated visualization of matrix multiplication on this website: [Matrix multiplication](http://matrixmultiplication.xyz/)"
   ]
  },
  {
   "cell_type": "code",
   "execution_count": null,
   "metadata": {},
   "outputs": [],
   "source": [
    "# Matrix multiplication\n",
    "print(\"\\nDot product:\\n\", np.dot(a, b))\n",
    "print(\"\\nMatrix product:\\n\", a @ b)  # Alternative notation"
   ]
  },
  {
   "cell_type": "code",
   "execution_count": null,
   "metadata": {},
   "outputs": [],
   "source": [
    "a = np.array([[1, 2], [3, 4]])\n",
    "b = np.array([[5, 6], [7, 8]])\n",
    "\n",
    "print(\"Matrix a:\\n\", a)\n",
    "print(\"\\nMatrix b:\\n\", b)"
   ]
  },
  {
   "cell_type": "code",
   "execution_count": null,
   "metadata": {},
   "outputs": [],
   "source": [
    "# Other linear algebra operations\n",
    "print(\"\\nDeterminant:\", np.linalg.det(a))\n",
    "print(\"Inverse:\\n\", np.linalg.inv(a))\n",
    "print(\"Eigenvalues:\", np.linalg.eigvals(a))"
   ]
  },
  {
   "cell_type": "markdown",
   "metadata": {},
   "source": [
    "External video tutorials for linear algebra operations by Khan Academy\n",
    "- [Matrix multiplication](https://www.youtube.com/watch?v=OMA2Mwo0aZg)\n",
    "- [Determinant](https://www.youtube.com/watch?v=3ROzG6n4yMc)\n",
    "- [Inverse](https://www.youtube.com/watch?v=01c12NaUQDw)\n",
    "- [Eigenvalues](https://www.youtube.com/watch?v=pZ6mMVEE89g)"
   ]
  },
  {
   "cell_type": "markdown",
   "metadata": {},
   "source": [
    "## 4. Array Manipulation"
   ]
  },
  {
   "cell_type": "markdown",
   "metadata": {},
   "source": [
    "### 4.1 Reshaping Arrays"
   ]
  },
  {
   "cell_type": "code",
   "execution_count": null,
   "metadata": {},
   "outputs": [],
   "source": [
    "array = np.arange(12)\n",
    "print(\"Original array:\", array)"
   ]
  },
  {
   "cell_type": "code",
   "execution_count": null,
   "metadata": {},
   "outputs": [],
   "source": [
    "# Reshape to 2D\n",
    "array_2d = array.reshape(3, 4)\n",
    "print(\"\\nReshaped to 3x4:\\n\", array_2d)"
   ]
  },
  {
   "cell_type": "code",
   "execution_count": null,
   "metadata": {},
   "outputs": [],
   "source": [
    "# Reshape to 3D\n",
    "array_3d = array.reshape(2, 2, 3)\n",
    "print(\"\\nReshaped to 2x2x3:\\n\", array_3d)"
   ]
  },
  {
   "cell_type": "markdown",
   "metadata": {},
   "source": [
    "### 4.2 Stacking and Splitting"
   ]
  },
  {
   "cell_type": "code",
   "execution_count": null,
   "metadata": {},
   "outputs": [],
   "source": [
    "a = np.array([1, 2, 3])\n",
    "b = np.array([4, 5, 6])"
   ]
  },
  {
   "cell_type": "code",
   "execution_count": null,
   "metadata": {},
   "outputs": [],
   "source": [
    "# Stacking\n",
    "print(\"Vertical stack:\\n\", np.vstack((a, b)))\n",
    "print(\"\\nHorizontal stack:\\n\", np.hstack((a, b)))\n",
    "print(\"\\nColumn stack:\\n\", np.column_stack((a, b)))"
   ]
  },
  {
   "cell_type": "code",
   "execution_count": null,
   "metadata": {},
   "outputs": [],
   "source": [
    "# Splitting\n",
    "array = np.arange(9)\n",
    "print(\"\\nOriginal array:\", array)\n",
    "print(\"Split into 3:\", np.split(array, 3))"
   ]
  },
  {
   "cell_type": "markdown",
   "metadata": {},
   "source": [
    "### 4.3 Broadcasting"
   ]
  },
  {
   "cell_type": "code",
   "execution_count": null,
   "metadata": {},
   "outputs": [],
   "source": [
    "array = np.array([[1, 2, 3], [4, 5, 6]])\n",
    "scalar = 2\n",
    "\n",
    "print(\"Array:\\n\", array)\n",
    "print(\"\\nMultiply by scalar:\\n\", array * scalar)"
   ]
  },
  {
   "cell_type": "code",
   "execution_count": null,
   "metadata": {},
   "outputs": [],
   "source": [
    "# Broadcasting with arrays\n",
    "a = np.array([[1], [2], [3]])  # 3x1 array\n",
    "b = np.array([4, 5, 6])  # 1x3 array\n",
    "\n",
    "print(\"Array a:\\n\", a)\n",
    "print(\"\\nArray b:\\n\", b)\n",
    "print(\"\\nBroadcasting multiplication:\\n\", a * b)"
   ]
  },
  {
   "cell_type": "markdown",
   "metadata": {},
   "source": [
    "## 5. Practical Examples"
   ]
  },
  {
   "cell_type": "markdown",
   "metadata": {},
   "source": [
    "### 5.1 Data Processing Example"
   ]
  },
  {
   "cell_type": "code",
   "execution_count": null,
   "metadata": {},
   "outputs": [],
   "source": [
    "# Generate sample data\n",
    "data = np.random.normal(0, 1, 1000)  # 1000 samples from normal distribution"
   ]
  },
  {
   "cell_type": "code",
   "execution_count": null,
   "metadata": {},
   "outputs": [],
   "source": [
    "# Basic statistics\n",
    "print(\"Mean:\", np.mean(data))\n",
    "print(\"Standard deviation:\", np.std(data))"
   ]
  },
  {
   "cell_type": "code",
   "execution_count": null,
   "metadata": {},
   "outputs": [],
   "source": [
    "# Data filtering\n",
    "filtered_data = data[(data > -1) & (data < 1)]\n",
    "print(\"\\nPercentage of data within 1 std:\", len(filtered_data) / len(data) * 100)"
   ]
  },
  {
   "cell_type": "code",
   "execution_count": null,
   "metadata": {},
   "outputs": [],
   "source": [
    "import matplotlib.pyplot as plt\n",
    "\n",
    "# Create a figure with multiple subplots\n",
    "plt.figure(figsize=(15, 10))\n",
    "\n",
    "# 1. Histogram comparison\n",
    "plt.subplot(2, 2, 1)\n",
    "plt.hist(data, bins=30, alpha=0.5, label=\"Original Data\", color=\"blue\")\n",
    "plt.hist(filtered_data, bins=30, alpha=0.5, label=\"Filtered Data\", color=\"red\")\n",
    "plt.title(\"Histogram Comparison\")\n",
    "plt.xlabel(\"Value\")\n",
    "plt.ylabel(\"Frequency\")\n",
    "plt.legend()"
   ]
  },
  {
   "cell_type": "markdown",
   "metadata": {},
   "source": [
    "### 5.2 Image Processing Example"
   ]
  },
  {
   "cell_type": "code",
   "execution_count": null,
   "metadata": {},
   "outputs": [],
   "source": [
    "# Create a simple image (gradient)\n",
    "image = np.zeros((5, 5))\n",
    "for i in range(5):\n",
    "    image[i] = i\n",
    "\n",
    "print(\"Image:\\n\", image)"
   ]
  },
  {
   "cell_type": "code",
   "execution_count": null,
   "metadata": {},
   "outputs": [],
   "source": [
    "def show_image(image):\n",
    "    plt.imshow(image, cmap=\"gray\")\n",
    "    plt.colorbar()\n",
    "    plt.show()"
   ]
  },
  {
   "cell_type": "code",
   "execution_count": null,
   "metadata": {},
   "outputs": [],
   "source": [
    "# show the image\n",
    "show_image(image)"
   ]
  },
  {
   "cell_type": "markdown",
   "metadata": {},
   "source": [
    "### 5.3 Image transformations"
   ]
  },
  {
   "cell_type": "code",
   "execution_count": null,
   "metadata": {},
   "outputs": [],
   "source": [
    "# Rotate the image 90 degrees counterclockwise\n",
    "print(\"\\nRotated image:\\n\", np.rot90(image))\n",
    "show_image(np.rot90(image))"
   ]
  },
  {
   "cell_type": "code",
   "execution_count": null,
   "metadata": {},
   "outputs": [],
   "source": [
    "print(\"\\nFlipped image:\\n\", np.flip(image))\n",
    "show_image(np.flip(image))"
   ]
  },
  {
   "cell_type": "code",
   "execution_count": null,
   "metadata": {},
   "outputs": [],
   "source": [
    "print(\"\\nTransposed image:\\n\", image.T)\n",
    "show_image(image.T)"
   ]
  },
  {
   "cell_type": "markdown",
   "metadata": {},
   "source": [
    "## 6. Exercises"
   ]
  },
  {
   "cell_type": "markdown",
   "metadata": {},
   "source": [
    "> **Exercise 1:** Create two 3x3 arrays and perform the following operations:\n",
    "1. Matrix multiplication\n",
    "2. Element-wise multiplication\n",
    "3. Calculate the determinant of the result"
   ]
  },
  {
   "cell_type": "code",
   "execution_count": null,
   "metadata": {},
   "outputs": [],
   "source": [
    "# Solution\n",
    "A = np.array([[1, 2, 3], [4, 5, 6], [7, 8, 9]])\n",
    "B = np.array([[9, 8, 7], [6, 5, 4], [3, 2, 1]])\n",
    "\n",
    "print(\"\\nExercise 1 Solution:\")\n",
    "matrix_mult = np.dot(A, B)\n",
    "element_mult = A * B\n",
    "det = np.linalg.det(matrix_mult)\n",
    "\n",
    "print(\"Matrix multiplication:\\n\", matrix_mult)\n",
    "print(\"\\nElement-wise multiplication:\\n\", element_mult)\n",
    "print(\"\\nDeterminant:\", det)"
   ]
  },
  {
   "cell_type": "markdown",
   "metadata": {},
   "source": [
    "> **Exercise 2:** Generate a random dataset and perform the following:\n",
    "1. Calculate basic statistics\n",
    "2. Filter outliers (values > 2 std)\n",
    "3. Normalize the data"
   ]
  },
  {
   "cell_type": "code",
   "execution_count": null,
   "metadata": {},
   "outputs": [],
   "source": [
    "# Solution\n",
    "data = np.random.normal(10, 2, 1000)\n",
    "mean = np.mean(data)\n",
    "std = np.std(data)\n",
    "\n",
    "print(\"\\nExercise 2 Solution:\")\n",
    "print(\"Original statistics:\")\n",
    "print(f\"Mean: {mean:.2f}, Std: {std:.2f}\")"
   ]
  },
  {
   "cell_type": "code",
   "execution_count": null,
   "metadata": {},
   "outputs": [],
   "source": [
    "plt.figure(figsize=(15, 10))\n",
    "plt.hist(data, bins=30, alpha=0.5, label=\"Original Data\", color=\"blue\")\n",
    "plt.title(\"Histogram Comparison\")\n",
    "plt.xlabel(\"Value\")\n",
    "plt.ylabel(\"Frequency\")\n",
    "plt.legend()"
   ]
  },
  {
   "cell_type": "code",
   "execution_count": null,
   "metadata": {},
   "outputs": [],
   "source": [
    "# Remove outliers\n",
    "filtered_data = data[np.abs(data - mean) <= 2 * std]\n",
    "print(f\"Data points removed: {len(data) - len(filtered_data)}\")"
   ]
  },
  {
   "cell_type": "code",
   "execution_count": null,
   "metadata": {},
   "outputs": [],
   "source": [
    "# Normalize data\n",
    "normalized_data = (filtered_data - np.mean(filtered_data)) / np.std(filtered_data)\n",
    "print(\"\\nNormalized statistics:\")\n",
    "print(f\"Mean: {np.mean(normalized_data):.2f}, Std: {np.std(normalized_data):.2f}\")"
   ]
  }
 ],
 "metadata": {
  "kernelspec": {
   "display_name": "venv",
   "language": "python",
   "name": "python3"
  },
  "language_info": {
   "codemirror_mode": {
    "name": "ipython",
    "version": 3
   },
   "file_extension": ".py",
   "mimetype": "text/x-python",
   "name": "python",
   "nbconvert_exporter": "python",
   "pygments_lexer": "ipython3",
   "version": "3.12.7"
  }
 },
 "nbformat": 4,
 "nbformat_minor": 2
}
