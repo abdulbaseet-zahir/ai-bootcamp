{
 "cells": [
  {
   "cell_type": "markdown",
   "metadata": {},
   "source": [
    "# Data Cleaning and Preprocessing"
   ]
  },
  {
   "cell_type": "markdown",
   "metadata": {},
   "source": [
    "This notebook covers essential data cleaning and preprocessing techniques using pandas.\n",
    "We'll work with a messy customer dataset and clean it step by step."
   ]
  },
  {
   "cell_type": "code",
   "execution_count": null,
   "metadata": {},
   "outputs": [],
   "source": [
    "import pandas as pd\n",
    "import numpy as np\n",
    "import matplotlib.pyplot as plt\n",
    "import seaborn as sns"
   ]
  },
  {
   "cell_type": "code",
   "execution_count": null,
   "metadata": {},
   "outputs": [],
   "source": [
    "# Set random seed\n",
    "np.random.seed(42)"
   ]
  },
  {
   "cell_type": "code",
   "execution_count": null,
   "metadata": {},
   "outputs": [],
   "source": [
    "# Generate sample data\n",
    "n_samples = 1000\n",
    "\n",
    "# Create customer data with various issues\n",
    "data = {\n",
    "    \"customer_id\": range(1, n_samples + 1),\n",
    "    \"name\": [f\"Customer_{i}\" for i in range(1, n_samples + 1)],\n",
    "    \"age\": np.random.randint(18, 90, n_samples),\n",
    "    \"email\": [\n",
    "        f\"customer_{i}@email.com\" if i % 10 != 0 else None\n",
    "        for i in range(1, n_samples + 1)\n",
    "    ],\n",
    "    \"purchase_amount\": np.random.normal(500, 150, n_samples),\n",
    "    \"purchase_date\": pd.date_range(start=\"2023-01-01\", periods=n_samples),\n",
    "    \"category\": np.random.choice(\n",
    "        [\"Electronics\", \"Clothing\", \"Books\", \"Home\", None], n_samples\n",
    "    ),\n",
    "    \"satisfaction_score\": np.random.choice([1, 2, 3, 4, 5, None], n_samples),\n",
    "    \"phone_number\": [\n",
    "        f\"+1-555-{str(i).zfill(4)}\" if i % 15 != 0 else \"invalid\"\n",
    "        for i in range(1, n_samples + 1)\n",
    "    ],\n",
    "}\n",
    "\n",
    "# Create DataFrame\n",
    "df = pd.DataFrame(data)"
   ]
  },
  {
   "cell_type": "code",
   "execution_count": null,
   "metadata": {},
   "outputs": [],
   "source": [
    "df.head()"
   ]
  },
  {
   "cell_type": "code",
   "execution_count": null,
   "metadata": {},
   "outputs": [],
   "source": [
    "# Introduce some messiness\n",
    "df.loc[np.random.choice(df.index, 50), \"age\"] = None  # Missing ages\n",
    "df.loc[np.random.choice(df.index, 30), \"purchase_amount\"] = (\n",
    "    np.nan\n",
    ")  # Missing purchase amounts\n",
    "df.loc[np.random.choice(df.index, 20), \"age\"] = -1  # Invalid ages\n",
    "df.loc[np.random.choice(df.index, 20), \"purchase_amount\"] = (\n",
    "    -100\n",
    ")  # Invalid purchase amounts"
   ]
  },
  {
   "cell_type": "code",
   "execution_count": null,
   "metadata": {},
   "outputs": [],
   "source": [
    "df.info()"
   ]
  },
  {
   "cell_type": "markdown",
   "metadata": {},
   "source": [
    "# 1. Initial Data Exploration"
   ]
  },
  {
   "cell_type": "code",
   "execution_count": null,
   "metadata": {},
   "outputs": [],
   "source": [
    "print(\"\\nMissing values count:\")\n",
    "print(df.isnull().sum())"
   ]
  },
  {
   "cell_type": "code",
   "execution_count": null,
   "metadata": {},
   "outputs": [],
   "source": [
    "print(\"\\nBasic statistics:\")\n",
    "print(df.describe())"
   ]
  },
  {
   "cell_type": "markdown",
   "metadata": {},
   "source": [
    "# 2. Handling Missing Values"
   ]
  },
  {
   "cell_type": "code",
   "execution_count": null,
   "metadata": {},
   "outputs": [],
   "source": [
    "# Check missing value percentages\n",
    "missing_percentages = (df.isnull().sum() / len(df)) * 100\n",
    "print(\"\\nMissing value percentages:\")\n",
    "print(missing_percentages)"
   ]
  },
  {
   "cell_type": "code",
   "execution_count": null,
   "metadata": {},
   "outputs": [],
   "source": [
    "# Fill missing emails with 'unknown'\n",
    "df[\"email\"] = df[\"email\"].fillna(\"unknown\")"
   ]
  },
  {
   "cell_type": "code",
   "execution_count": null,
   "metadata": {},
   "outputs": [],
   "source": [
    "# Fill missing categories with 'Other'\n",
    "df[\"category\"] = df[\"category\"].fillna(\"Other\")"
   ]
  },
  {
   "cell_type": "markdown",
   "metadata": {},
   "source": [
    "> **Median** The median is the middle value when data is ordered. In pandas, you can calculate it using .median()."
   ]
  },
  {
   "cell_type": "code",
   "execution_count": null,
   "metadata": {},
   "outputs": [],
   "source": [
    "# Fill missing satisfaction scores with median\n",
    "df[\"satisfaction_score\"] = df[\"satisfaction_score\"].fillna(\n",
    "    df[\"satisfaction_score\"].median()\n",
    ")"
   ]
  },
  {
   "cell_type": "code",
   "execution_count": null,
   "metadata": {},
   "outputs": [],
   "source": [
    "# Fill missing ages with median\n",
    "df[\"age\"] = df[\"age\"].fillna(df[\"age\"].median())"
   ]
  },
  {
   "cell_type": "code",
   "execution_count": null,
   "metadata": {},
   "outputs": [],
   "source": [
    "# Fill missing purchase amounts with mean\n",
    "df[\"purchase_amount\"] = df[\"purchase_amount\"].fillna(df[\"purchase_amount\"].mean())"
   ]
  },
  {
   "cell_type": "code",
   "execution_count": null,
   "metadata": {},
   "outputs": [],
   "source": [
    "print(\"\\nRemaining missing values after handling:\")\n",
    "print(df.isnull().sum())"
   ]
  },
  {
   "cell_type": "markdown",
   "metadata": {},
   "source": [
    "# 3. Handling Invalid Values"
   ]
  },
  {
   "cell_type": "code",
   "execution_count": null,
   "metadata": {},
   "outputs": [],
   "source": [
    "# Fix invalid ages\n",
    "df[\"age\"] = df[\"age\"].apply(lambda x: None if x < 0 else x)\n",
    "df[\"age\"] = df[\"age\"].fillna(df[\"age\"].median())"
   ]
  },
  {
   "cell_type": "code",
   "execution_count": null,
   "metadata": {},
   "outputs": [],
   "source": [
    "# Fix invalid purchase amounts\n",
    "df[\"purchase_amount\"] = df[\"purchase_amount\"].apply(lambda x: None if x < 0 else x)\n",
    "df[\"purchase_amount\"] = df[\"purchase_amount\"].fillna(df[\"purchase_amount\"].mean())"
   ]
  },
  {
   "cell_type": "markdown",
   "metadata": {},
   "source": [
    "# 4. Data Validation and Constraints"
   ]
  },
  {
   "cell_type": "code",
   "execution_count": null,
   "metadata": {},
   "outputs": [],
   "source": [
    "# Ensure age is within reasonable range\n",
    "df[\"age\"] = df[\"age\"].clip(lower=18, upper=90)"
   ]
  },
  {
   "cell_type": "code",
   "execution_count": null,
   "metadata": {},
   "outputs": [],
   "source": [
    "# Round purchase amounts to 2 decimal places\n",
    "df[\"purchase_amount\"] = df[\"purchase_amount\"].round(2)"
   ]
  },
  {
   "cell_type": "code",
   "execution_count": null,
   "metadata": {},
   "outputs": [],
   "source": [
    "# Ensure satisfaction scores are integers\n",
    "df[\"satisfaction_score\"] = df[\"satisfaction_score\"].round().astype(int)"
   ]
  },
  {
   "cell_type": "markdown",
   "metadata": {},
   "source": [
    "# 5. Feature Engineering"
   ]
  },
  {
   "cell_type": "code",
   "execution_count": null,
   "metadata": {},
   "outputs": [],
   "source": [
    "# Extract month from purchase date\n",
    "df[\"purchase_month\"] = df[\"purchase_date\"].dt.month"
   ]
  },
  {
   "cell_type": "code",
   "execution_count": null,
   "metadata": {},
   "outputs": [],
   "source": [
    "# Create purchase amount categories\n",
    "df[\"purchase_category\"] = pd.qcut(\n",
    "    df[\"purchase_amount\"], q=4, labels=[\"Low\", \"Medium\", \"High\", \"Premium\"]\n",
    ")"
   ]
  },
  {
   "cell_type": "code",
   "execution_count": null,
   "metadata": {},
   "outputs": [],
   "source": [
    "# Create age groups\n",
    "df[\"age_group\"] = pd.cut(\n",
    "    df[\"age\"],\n",
    "    bins=[17, 25, 35, 50, 65, 90],\n",
    "    labels=[\"18-25\", \"26-35\", \"36-50\", \"51-65\", \"65+\"],\n",
    ")"
   ]
  },
  {
   "cell_type": "code",
   "execution_count": null,
   "metadata": {},
   "outputs": [],
   "source": [
    "print(\"\\nNew features preview:\")\n",
    "print(df[[\"purchase_month\", \"purchase_category\", \"age_group\"]].head())"
   ]
  },
  {
   "cell_type": "markdown",
   "metadata": {},
   "source": [
    "# 6. Data Visualization"
   ]
  },
  {
   "cell_type": "code",
   "execution_count": null,
   "metadata": {},
   "outputs": [],
   "source": [
    "# Create visualizations\n",
    "plt.figure(figsize=(15, 10))"
   ]
  },
  {
   "cell_type": "code",
   "execution_count": null,
   "metadata": {},
   "outputs": [],
   "source": [
    "# Plot 1: Age distribution\n",
    "plt.subplot(2, 2, 1)\n",
    "sns.histplot(data=df, x=\"age\", bins=20)\n",
    "plt.title(\"Age Distribution\")"
   ]
  },
  {
   "cell_type": "code",
   "execution_count": null,
   "metadata": {},
   "outputs": [],
   "source": [
    "# Plot 2: Purchase amount distribution\n",
    "plt.subplot(2, 2, 2)\n",
    "sns.boxplot(data=df, x=\"category\", y=\"purchase_amount\")\n",
    "plt.xticks(rotation=45)\n",
    "plt.title(\"Purchase Amount by Category\")"
   ]
  },
  {
   "cell_type": "code",
   "execution_count": null,
   "metadata": {},
   "outputs": [],
   "source": [
    "# Plot 3: Satisfaction score distribution\n",
    "plt.subplot(2, 2, 3)\n",
    "sns.countplot(data=df, x=\"satisfaction_score\")\n",
    "plt.title(\"Satisfaction Score Distribution\")"
   ]
  },
  {
   "cell_type": "code",
   "execution_count": null,
   "metadata": {},
   "outputs": [],
   "source": [
    "# Plot 4: Purchase amount by age group\n",
    "plt.subplot(2, 2, 4)\n",
    "sns.boxplot(data=df, x=\"age_group\", y=\"purchase_amount\")\n",
    "plt.xticks(rotation=45)\n",
    "plt.title(\"Purchase Amount by Age Group\")\n",
    "\n",
    "plt.tight_layout()\n",
    "plt.show()"
   ]
  },
  {
   "cell_type": "markdown",
   "metadata": {},
   "source": [
    "# 7. Final Data Quality Check"
   ]
  },
  {
   "cell_type": "code",
   "execution_count": null,
   "metadata": {},
   "outputs": [],
   "source": [
    "print(\"\\nFinal dataset info:\")\n",
    "print(df.info())"
   ]
  },
  {
   "cell_type": "code",
   "execution_count": null,
   "metadata": {},
   "outputs": [],
   "source": [
    "print(\"\\nFinal dataset summary statistics:\")\n",
    "print(df.describe())"
   ]
  },
  {
   "cell_type": "markdown",
   "metadata": {},
   "source": [
    "# 8. Export Clean Dataset"
   ]
  },
  {
   "cell_type": "code",
   "execution_count": null,
   "metadata": {},
   "outputs": [],
   "source": [
    "# Export to CSV\n",
    "df.to_csv(\"clean_customer_data.csv\", index=False)\n",
    "print(\"\\nClean dataset exported to 'clean_customer_data.csv'\")"
   ]
  },
  {
   "cell_type": "markdown",
   "metadata": {},
   "source": [
    "# 9. Summary of Cleaning Operations"
   ]
  },
  {
   "cell_type": "markdown",
   "metadata": {},
   "source": [
    "Cleaning operations performed:\n",
    "1. Handled missing values for all columns\n",
    "2. Fixed invalid ages and purchase amounts\n",
    "3. Standardized phone numbers\n",
    "4. Applied data constraints (age range, purchase amount decimals)\n",
    "5. Created new features (purchase_month, purchase_category, age_group)\n",
    "6. Performed data validation\n",
    "7. Generated visualizations for data quality check\n",
    "8. Exported clean dataset"
   ]
  },
  {
   "cell_type": "markdown",
   "metadata": {},
   "source": [
    "# 10. Data Quality Metrics"
   ]
  },
  {
   "cell_type": "code",
   "execution_count": null,
   "metadata": {},
   "outputs": [],
   "source": [
    "quality_metrics = {\n",
    "    \"Total Records\": len(df),\n",
    "    \"Missing Values\": df.isnull().sum().sum(),\n",
    "    \"Duplicate Records\": len(df[df.duplicated()]),\n",
    "    \"Age Range\": f\"{df['age'].min()} - {df['age'].max()}\",\n",
    "    \"Purchase Amount Range\": f\"${df['purchase_amount'].min():.2f} - ${df['purchase_amount'].max():.2f}\",\n",
    "    \"Unique Categories\": len(df[\"category\"].unique()),\n",
    "    \"Average Satisfaction\": df[\"satisfaction_score\"].mean(),\n",
    "}\n",
    "\n",
    "for metric, value in quality_metrics.items():\n",
    "    print(f\"{metric}: {value}\")"
   ]
  }
 ],
 "metadata": {
  "kernelspec": {
   "display_name": "venv",
   "language": "python",
   "name": "python3"
  },
  "language_info": {
   "codemirror_mode": {
    "name": "ipython",
    "version": 3
   },
   "file_extension": ".py",
   "mimetype": "text/x-python",
   "name": "python",
   "nbconvert_exporter": "python",
   "pygments_lexer": "ipython3",
   "version": "3.12.7"
  }
 },
 "nbformat": 4,
 "nbformat_minor": 2
}
