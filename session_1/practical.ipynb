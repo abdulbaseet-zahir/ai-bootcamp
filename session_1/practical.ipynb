{
 "cells": [
  {
   "cell_type": "markdown",
   "metadata": {},
   "source": [
    "# Basic Python for Data Science Review\n",
    "This notebook covers essential Python concepts needed for data science.\n",
    "We'll review basic Python and key data science libraries.\n"
   ]
  },
  {
   "cell_type": "markdown",
   "metadata": {},
   "source": [
    "# 1. Basic Python Review"
   ]
  },
  {
   "cell_type": "markdown",
   "metadata": {},
   "source": [
    "## 1.1 Variables and Data Types\n"
   ]
  },
  {
   "cell_type": "code",
   "execution_count": null,
   "metadata": {},
   "outputs": [],
   "source": [
    "# Numeric types\n",
    "x = 5         # integer\n",
    "y = 3.14      # float\n",
    "z = 2 + 3j    # complex\n",
    "\n",
    "print(f\"Types: {type(x)}, {type(y)}, {type(z)}\")"
   ]
  },
  {
   "cell_type": "code",
   "execution_count": null,
   "metadata": {},
   "outputs": [],
   "source": [
    "# Strings\n",
    "text = \"Hello, Data Science!\"\n",
    "print(f\"String operations:\")\n",
    "print(f\"Upper: {text.upper()}\")\n",
    "print(f\"Split: {text.split(',')}\")\n",
    "print(f\"Length: {len(text)}\")"
   ]
  },
  {
   "cell_type": "code",
   "execution_count": null,
   "metadata": {},
   "outputs": [],
   "source": [
    "# Boolean\n",
    "is_true = True\n",
    "is_false = False\n",
    "print(f\"\\nBoolean operations:\")\n",
    "print(f\"AND: {is_true and is_false}\")\n",
    "print(f\"OR: {is_true or is_false}\")\n",
    "print(f\"NOT: {not is_true}\")"
   ]
  },
  {
   "cell_type": "markdown",
   "metadata": {},
   "source": [
    "## 1.2 Data Structures"
   ]
  },
  {
   "cell_type": "code",
   "execution_count": null,
   "metadata": {},
   "outputs": [],
   "source": [
    "# Lists\n",
    "numbers = [1, 2, 3, 4, 5]\n",
    "mixed_list = [1, \"two\", 3.0, [4, 5]]\n",
    "\n",
    "print(f\"\\nList operations:\")\n",
    "numbers.append(6)\n",
    "print(f\"After append: {numbers}\")\n",
    "print(f\"Slicing: {numbers[2:4]}\")\n",
    "print(f\"Last element: {numbers[-1]}\")"
   ]
  },
  {
   "cell_type": "code",
   "execution_count": null,
   "metadata": {},
   "outputs": [],
   "source": [
    "# Tuples (immutable)\n",
    "coordinates = (10, 20)\n",
    "x, y = coordinates  # unpacking\n",
    "print(f\"\\nTuple unpacking: x={x}, y={y}\")"
   ]
  },
  {
   "cell_type": "code",
   "execution_count": null,
   "metadata": {},
   "outputs": [],
   "source": [
    "# Dictionaries\n",
    "person = {\n",
    "    \"name\": \"John\",\n",
    "    \"age\": 30,\n",
    "    \"skills\": [\"Python\", \"Data Science\"]\n",
    "}\n",
    "\n",
    "print(f\"\\nDictionary operations:\")\n",
    "print(f\"Keys: {person.keys()}\")\n",
    "print(f\"Values: {person.values()}\")\n",
    "print(f\"Access value: {person['name']}\")"
   ]
  },
  {
   "cell_type": "code",
   "execution_count": null,
   "metadata": {},
   "outputs": [],
   "source": [
    "# Sets\n",
    "unique_numbers = {1, 2, 2, 3, 3, 4}\n",
    "print(f\"\\nSet (unique values): {unique_numbers}\")"
   ]
  },
  {
   "cell_type": "markdown",
   "metadata": {},
   "source": [
    "## 1.3 Control Flow"
   ]
  },
  {
   "cell_type": "code",
   "execution_count": null,
   "metadata": {},
   "outputs": [],
   "source": [
    "# If-else\n",
    "x = 10\n",
    "if x > 5:\n",
    "    print(\"\\nx is greater than 5\")\n",
    "elif x == 5:\n",
    "    print(\"x equals 5\")\n",
    "else:\n",
    "    print(\"x is less than 5\")"
   ]
  },
  {
   "cell_type": "code",
   "execution_count": null,
   "metadata": {},
   "outputs": [],
   "source": [
    "# Loops\n",
    "print(\"\\nFor loop:\")\n",
    "for i in range(3):\n",
    "    print(f\"Iteration {i}\")\n",
    "\n",
    "print(\"\\nWhile loop:\")\n",
    "count = 0\n",
    "while count < 3:\n",
    "    print(f\"Count: {count}\")\n",
    "    count += 1"
   ]
  },
  {
   "cell_type": "markdown",
   "metadata": {},
   "source": [
    "## 1.4 Functions"
   ]
  },
  {
   "cell_type": "code",
   "execution_count": null,
   "metadata": {},
   "outputs": [],
   "source": [
    "def calculate_statistics(numbers):\n",
    "    \"\"\"\n",
    "    Calculate basic statistics for a list of numbers.\n",
    "    \n",
    "    Args:\n",
    "        numbers (list): List of numbers\n",
    "    \n",
    "    Returns:\n",
    "        tuple: (mean, min, max)\n",
    "    \"\"\"\n",
    "    mean = sum(numbers) / len(numbers)\n",
    "    minimum = min(numbers)\n",
    "    maximum = max(numbers)\n",
    "    return mean, minimum, maximum\n",
    "\n",
    "# Using the function\n",
    "numbers = [1, 2, 3, 4, 5]\n",
    "mean, min_val, max_val = calculate_statistics(numbers)\n",
    "print(f\"\\nStatistics: Mean={mean}, Min={min_val}, Max={max_val}\")"
   ]
  },
  {
   "cell_type": "markdown",
   "metadata": {},
   "source": [
    "## 1.5 List Comprehension"
   ]
  },
  {
   "cell_type": "code",
   "execution_count": null,
   "metadata": {},
   "outputs": [],
   "source": [
    "# Traditional loop\n",
    "squares = []\n",
    "for i in range(5):\n",
    "    squares.append(i**2)"
   ]
  },
  {
   "cell_type": "code",
   "execution_count": null,
   "metadata": {},
   "outputs": [],
   "source": [
    "# List comprehension\n",
    "squares_lc = [i**2 for i in range(5)]\n",
    "\n",
    "print(f\"\\nSquares using list comprehension: {squares_lc}\")"
   ]
  },
  {
   "cell_type": "code",
   "execution_count": null,
   "metadata": {},
   "outputs": [],
   "source": [
    "# Conditional list comprehension\n",
    "even_squares = [i**2 for i in range(5) if i % 2 == 0]\n",
    "print(f\"Even squares: {even_squares}\")"
   ]
  },
  {
   "cell_type": "markdown",
   "metadata": {},
   "source": [
    "# 2. NumPy Basics"
   ]
  },
  {
   "cell_type": "code",
   "execution_count": null,
   "metadata": {},
   "outputs": [],
   "source": [
    "import numpy as np"
   ]
  },
  {
   "cell_type": "markdown",
   "metadata": {},
   "source": [
    "## 2.1 Creating Arrays"
   ]
  },
  {
   "cell_type": "code",
   "execution_count": null,
   "metadata": {},
   "outputs": [],
   "source": [
    "# From list\n",
    "arr1 = np.array([1, 2, 3, 4, 5])\n",
    "print(f\"\\nNumPy array: {arr1}\")"
   ]
  },
  {
   "cell_type": "code",
   "execution_count": null,
   "metadata": {},
   "outputs": [],
   "source": [
    "# Special arrays\n",
    "zeros = np.zeros(3)\n",
    "ones = np.ones(3)\n",
    "random_arr = np.random.rand(3)\n",
    "\n",
    "print(f\"Zeros: {zeros}\")\n",
    "print(f\"Ones: {ones}\")\n",
    "print(f\"Random: {random_arr}\")"
   ]
  },
  {
   "cell_type": "code",
   "execution_count": null,
   "metadata": {},
   "outputs": [],
   "source": [
    "## 2.2 Array Operations\n",
    "\n",
    "arr2 = np.array([6, 7, 8, 9, 10])"
   ]
  },
  {
   "cell_type": "code",
   "execution_count": null,
   "metadata": {},
   "outputs": [],
   "source": [
    "# Arithmetic\n",
    "print(f\"\\nArray arithmetic:\")\n",
    "print(f\"Add: {arr1 + arr2}\")\n",
    "print(f\"Multiply: {arr1 * 2}\")\n",
    "print(f\"Square: {arr1 ** 2}\")"
   ]
  },
  {
   "cell_type": "code",
   "execution_count": null,
   "metadata": {},
   "outputs": [],
   "source": [
    "# Statistics\n",
    "print(f\"\\nArray statistics:\")\n",
    "print(f\"Mean: {arr1.mean()}\")\n",
    "print(f\"Sum: {arr1.sum()}\")\n",
    "print(f\"Standard deviation: {arr1.std()}\")"
   ]
  },
  {
   "cell_type": "markdown",
   "metadata": {},
   "source": [
    "# 3. Pandas Basics"
   ]
  },
  {
   "cell_type": "code",
   "execution_count": null,
   "metadata": {},
   "outputs": [],
   "source": [
    "import pandas as pd"
   ]
  },
  {
   "cell_type": "markdown",
   "metadata": {},
   "source": [
    "## 3.1 Creating DataFrames"
   ]
  },
  {
   "cell_type": "code",
   "execution_count": null,
   "metadata": {},
   "outputs": [],
   "source": [
    "# From dictionary\n",
    "data = {\n",
    "    'name': ['John', 'Emma', 'Alex'],\n",
    "    'age': [25, 30, 35],\n",
    "    'city': ['New York', 'London', 'Paris']\n",
    "}\n",
    "\n",
    "df = pd.DataFrame(data)\n",
    "print(\"\\nPandas DataFrame:\")\n",
    "print(df)"
   ]
  },
  {
   "cell_type": "markdown",
   "metadata": {},
   "source": [
    "## 3.2 Basic DataFrame Operations\n"
   ]
  },
  {
   "cell_type": "code",
   "execution_count": null,
   "metadata": {},
   "outputs": [],
   "source": [
    "# Accessing columns\n",
    "print(\"\\nAccessing age column:\")\n",
    "print(df['age'])"
   ]
  },
  {
   "cell_type": "code",
   "execution_count": null,
   "metadata": {},
   "outputs": [],
   "source": [
    "# Basic statistics\n",
    "print(\"\\nDataFrame statistics:\")\n",
    "print(df.describe())"
   ]
  },
  {
   "cell_type": "markdown",
   "metadata": {},
   "source": [
    "# Filtering\n",
    "print(\"\\nFiltering ages > 30:\")\n",
    "print(df[df['age'] > 30])"
   ]
  },
  {
   "cell_type": "markdown",
   "metadata": {},
   "source": [
    "# 4. Matplotlib Basics"
   ]
  },
  {
   "cell_type": "code",
   "execution_count": null,
   "metadata": {},
   "outputs": [],
   "source": [
    "import matplotlib.pyplot as plt"
   ]
  },
  {
   "cell_type": "markdown",
   "metadata": {},
   "source": [
    "## 4.1 Basic Plotting"
   ]
  },
  {
   "cell_type": "code",
   "execution_count": null,
   "metadata": {},
   "outputs": [],
   "source": [
    "# Line plot\n",
    "plt.figure(figsize=(10, 5))\n",
    "plt.plot([1, 2, 3, 4], [1, 4, 2, 3])\n",
    "plt.title('Simple Line Plot')\n",
    "plt.xlabel('X axis')\n",
    "plt.ylabel('Y axis')\n",
    "plt.show()"
   ]
  },
  {
   "cell_type": "code",
   "execution_count": null,
   "metadata": {},
   "outputs": [],
   "source": [
    "# Scatter plot\n",
    "plt.figure(figsize=(10, 5))\n",
    "plt.scatter([1, 2, 3, 4], [1, 4, 2, 3])\n",
    "plt.title('Simple Scatter Plot')\n",
    "plt.xlabel('X axis')\n",
    "plt.ylabel('Y axis')\n",
    "plt.show()"
   ]
  },
  {
   "cell_type": "markdown",
   "metadata": {},
   "source": [
    "# 5. Exercises"
   ]
  },
  {
   "cell_type": "markdown",
   "metadata": {},
   "source": [
    "**Exercise 1: List Manipulation**\n",
    "> Create a list of numbers from 1 to 10 and perform the following:\n",
    "1. Calculate the sum\n",
    "2. Find the average\n",
    "3. Get all even numbers using list comprehension"
   ]
  },
  {
   "cell_type": "code",
   "execution_count": null,
   "metadata": {},
   "outputs": [],
   "source": [
    "# Your solution here\n",
    "numbers = list(range(1, 11))\n",
    "sum_numbers = sum(numbers)\n",
    "avg_numbers = sum_numbers / len(numbers)\n",
    "even_numbers = [x for x in numbers if x % 2 == 0]\n",
    "\n",
    "print(\"\\nExercise 1 Results:\")\n",
    "print(f\"Sum: {sum_numbers}\")\n",
    "print(f\"Average: {avg_numbers}\")\n",
    "print(f\"Even numbers: {even_numbers}\")"
   ]
  },
  {
   "cell_type": "markdown",
   "metadata": {},
   "source": [
    "**Exercise 2: Dictionary Manipulation**\n",
    "> Create a dictionary of students with their scores and perform the following:\n",
    "1. Add a new student\n",
    "2. Update an existing student's score\n",
    "3. Calculate the average score"
   ]
  },
  {
   "cell_type": "code",
   "execution_count": null,
   "metadata": {},
   "outputs": [],
   "source": [
    "# Your solution here\n",
    "students = {\n",
    "    'John': 85,\n",
    "    'Emma': 92,\n",
    "    'Alex': 78\n",
    "}\n",
    "\n",
    "# Add new student\n",
    "students['Sarah'] = 95\n",
    "\n",
    "# Update score\n",
    "students['John'] = 88\n",
    "\n",
    "# Calculate average\n",
    "avg_score = sum(students.values()) / len(students)\n",
    "\n",
    "print(\"\\nExercise 2 Results:\")\n",
    "print(f\"Updated dictionary: {students}\")\n",
    "print(f\"Average score: {avg_score}\")"
   ]
  },
  {
   "cell_type": "markdown",
   "metadata": {},
   "source": [
    "**Exercise 3: NumPy Array Operations**\n",
    "> Create two NumPy arrays and perform the following:\n",
    "1. Add them element-wise\n",
    "2. Multiply them element-wise\n",
    "3. Calculate the dot product"
   ]
  },
  {
   "cell_type": "code",
   "execution_count": null,
   "metadata": {},
   "outputs": [],
   "source": [
    "# Your solution here\n",
    "arr1 = np.array([1, 2, 3])\n",
    "arr2 = np.array([4, 5, 6])\n",
    "\n",
    "print(\"\\nExercise 3 Results:\")\n",
    "print(f\"Element-wise addition: {arr1 + arr2}\")\n",
    "print(f\"Element-wise multiplication: {arr1 * arr2}\")\n",
    "print(f\"Dot product: {np.dot(arr1, arr2)}\")"
   ]
  },
  {
   "cell_type": "markdown",
   "metadata": {},
   "source": [
    "**Exercise 4: Pandas DataFrame Analysis**\n",
    "> Create a DataFrame with employee information and perform the following:\n",
    "1. Filter employees above age 30\n",
    "2. Calculate average salary by department\n",
    "3. Sort by salary in descending order"
   ]
  },
  {
   "cell_type": "code",
   "execution_count": null,
   "metadata": {},
   "outputs": [],
   "source": [
    "# Your solution here\n",
    "employee_data = {\n",
    "    'name': ['John', 'Emma', 'Alex', 'Sarah'],\n",
    "    'age': [25, 35, 45, 30],\n",
    "    'salary': [50000, 60000, 75000, 65000],\n",
    "    'department': ['IT', 'HR', 'IT', 'HR']\n",
    "}\n",
    "\n",
    "df = pd.DataFrame(employee_data)\n",
    "\n",
    "print(\"\\nExercise 4 Results:\")\n",
    "print(\"Employees above 30:\")\n",
    "print(df[df['age'] > 30])\n",
    "\n",
    "print(\"\\nAverage salary by department:\")\n",
    "print(df.groupby('department')['salary'].mean())\n",
    "\n",
    "print(\"\\nSorted by salary:\")\n",
    "print(df.sort_values('salary', ascending=False))"
   ]
  },
  {
   "cell_type": "markdown",
   "metadata": {},
   "source": [
    "# 6. Additional Practice Problems"
   ]
  },
  {
   "cell_type": "markdown",
   "metadata": {},
   "source": [
    "> 1. Create a function that takes a list of numbers and returns:\n",
    "   - The list sorted in ascending order\n",
    "   - The list sorted in descending order\n",
    "   - Only the unique values"
   ]
  },
  {
   "cell_type": "code",
   "execution_count": null,
   "metadata": {},
   "outputs": [],
   "source": [
    "def process_numbers(numbers):\n",
    "    asc = sorted(numbers)\n",
    "    desc = sorted(numbers, reverse=True)\n",
    "    unique = list(set(numbers))\n",
    "    return asc, desc, unique\n",
    "\n",
    "test_numbers = [4, 2, 7, 2, 9, 4, 1]\n",
    "asc, desc, unique = process_numbers(test_numbers)\n",
    "\n",
    "print(\"\\nAdditional Practice - Problem 1:\")\n",
    "print(f\"Ascending: {asc}\")\n",
    "print(f\"Descending: {desc}\")\n",
    "print(f\"Unique: {unique}\")"
   ]
  },
  {
   "cell_type": "markdown",
   "metadata": {},
   "source": [
    "> 2. Create a NumPy array of random numbers and:\n",
    "   - Reshape it into a 3x3 matrix\n",
    "   - Calculate the inverse (if possible)\n",
    "   - Calculate the eigenvalues"
   ]
  },
  {
   "cell_type": "code",
   "execution_count": null,
   "metadata": {},
   "outputs": [],
   "source": [
    "random_array = np.random.rand(9)\n",
    "matrix = random_array.reshape(3, 3)\n",
    "\n",
    "print(\"\\nAdditional Practice - Problem 2:\")\n",
    "print(\"Original matrix:\")\n",
    "print(matrix)\n",
    "\n",
    "try:\n",
    "    inverse = np.linalg.inv(matrix)\n",
    "    print(\"\\nInverse:\")\n",
    "    print(inverse)\n",
    "    \n",
    "    eigenvalues = np.linalg.eigvals(matrix)\n",
    "    print(\"\\nEigenvalues:\")\n",
    "    print(eigenvalues)\n",
    "except np.linalg.LinAlgError:\n",
    "    print(\"Matrix is not invertible\")"
   ]
  },
  {
   "cell_type": "markdown",
   "metadata": {},
   "source": []
  }
 ],
 "metadata": {
  "kernelspec": {
   "display_name": "venv",
   "language": "python",
   "name": "python3"
  },
  "language_info": {
   "codemirror_mode": {
    "name": "ipython",
    "version": 3
   },
   "file_extension": ".py",
   "mimetype": "text/x-python",
   "name": "python",
   "nbconvert_exporter": "python",
   "pygments_lexer": "ipython3",
   "version": "3.12.7"
  }
 },
 "nbformat": 4,
 "nbformat_minor": 2
}
