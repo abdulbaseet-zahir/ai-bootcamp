{
 "cells": [
  {
   "cell_type": "markdown",
   "metadata": {},
   "source": [
    "This Python code demonstrates how to send a POST request to a REST API endpoint using the `requests` library. The endpoint, hosted locally at `http://127.0.0.1:8000/predict`, serves a machine learning model that generates predictions based on input data. The payload contains a list of numerical inputs, which are sent as JSON to the API. The script handles the response by printing the predictions if the request is successful or displaying an error message if the request fails. This approach is commonly used to interact with APIs for real-time inference tasks."
   ]
  },
  {
   "cell_type": "code",
   "execution_count": null,
   "metadata": {},
   "outputs": [],
   "source": [
    "import requests\n",
    "\n",
    "# Define the URL and payload\n",
    "url = \"http://127.0.0.1:8000/predict\"\n",
    "payload = {\n",
    "    \"inputs\": [\n",
    "        [0.5, 0.2, 0.1, 0.4, 0.3, 0.1, 0.2, 0.7, 0.8, 0.9],\n",
    "    ]\n",
    "}\n",
    "\n",
    "# Make the POST request\n",
    "response = requests.post(url, json=payload)\n",
    "\n",
    "# Print the response\n",
    "if response.status_code == 200:\n",
    "    print(\"Predictions:\", response.json())\n",
    "else:\n",
    "    print(\"Error:\", response.status_code, response.text)"
   ]
  },
  {
   "cell_type": "code",
   "execution_count": null,
   "metadata": {},
   "outputs": [],
   "source": []
  }
 ],
 "metadata": {
  "kernelspec": {
   "display_name": "venv",
   "language": "python",
   "name": "python3"
  },
  "language_info": {
   "codemirror_mode": {
    "name": "ipython",
    "version": 3
   },
   "file_extension": ".py",
   "mimetype": "text/x-python",
   "name": "python",
   "nbconvert_exporter": "python",
   "pygments_lexer": "ipython3",
   "version": "3.12.8"
  }
 },
 "nbformat": 4,
 "nbformat_minor": 2
}
