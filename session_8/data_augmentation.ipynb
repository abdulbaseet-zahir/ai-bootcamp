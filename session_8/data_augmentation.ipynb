{
 "cells": [
  {
   "cell_type": "markdown",
   "metadata": {},
   "source": [
    "<img src=\"../images/cover.jpg\" width=\"1920\"/>"
   ]
  },
  {
   "cell_type": "markdown",
   "metadata": {},
   "source": [
    "### Data Augmentation\n",
    "Data augmentation is a critical technique in machine learning and deep learning, especially in computer vision. It involves artificially increasing the size of a dataset by creating modified versions of images. Augmentation can improve the generalization of models, prevent overfitting, and boost performance."
   ]
  },
  {
   "cell_type": "markdown",
   "metadata": {},
   "source": [
    "In this tutorial, we will explore the concept of data augmentation using PyTorch's `torchvision.transforms` module and create a Python script to demonstrate basic and advanced augmentations."
   ]
  },
  {
   "cell_type": "markdown",
   "metadata": {},
   "source": [
    "#### **Why Data Augmentation?**\n",
    "1. **Improves Generalization**: Augmentation introduces variability, making the model more robust to unseen data.\n",
    "2. **Reduces Overfitting**: By providing a larger and more diverse training dataset, the model learns patterns that generalize better.\n",
    "3. **Expands Limited Datasets**: When collecting more data isn't feasible, augmentation is a powerful alternative.\n"
   ]
  },
  {
   "cell_type": "code",
   "execution_count": null,
   "metadata": {},
   "outputs": [],
   "source": [
    "import matplotlib.pyplot as plt\n",
    "from torchvision import transforms\n",
    "from PIL import Image\n",
    "\n",
    "# Load an image\n",
    "image_path = \"test_images/cat1.jpeg\"  # Replace with your image path\n",
    "image = Image.open(image_path).convert(\"RGB\")\n",
    "\n",
    "# Define the RandomHorizontalFlip transformation\n",
    "transform = transforms.RandomHorizontalFlip(p=1.0)  # Always flip for demonstration\n",
    "\n",
    "# Apply the transformation\n",
    "transformed_image = transform(image)\n",
    "\n",
    "# Plot the original and transformed images side by side\n",
    "plt.figure(figsize=(10, 5))\n",
    "\n",
    "# Original Image\n",
    "plt.subplot(1, 2, 1)\n",
    "plt.imshow(image)\n",
    "plt.title(\"Original Image\")\n",
    "plt.axis(\"off\")\n",
    "\n",
    "# Transformed Image\n",
    "plt.subplot(1, 2, 2)\n",
    "plt.imshow(transformed_image)\n",
    "plt.title(\"Transformed Image (Horizontal Flip)\")\n",
    "plt.axis(\"off\")\n",
    "\n",
    "plt.tight_layout()\n",
    "plt.show()"
   ]
  },
  {
   "cell_type": "markdown",
   "metadata": {},
   "source": [
    "#### **Extending the Tutorial**\n",
    "To deepen your understanding, let’s explore additional transformations available in `torchvision.transforms`:"
   ]
  },
  {
   "cell_type": "markdown",
   "metadata": {},
   "source": [
    "##### **Basic Transformations**\n",
    "- **Horizontal and Vertical Flip**\n",
    "  ```python\n",
    "  transforms.RandomHorizontalFlip(p=0.5)\n",
    "  transforms.RandomVerticalFlip(p=0.5)\n",
    "  ```\n",
    "\n",
    "- **Rotation**\n",
    "  ```python\n",
    "  transforms.RandomRotation(degrees=30)\n",
    "  ```\n",
    "\n",
    "- **Color Jitter**\n",
    "  ```python\n",
    "  transforms.ColorJitter(brightness=0.5, contrast=0.5, saturation=0.5, hue=0.1)\n",
    "  ```\n",
    "\n",
    "- **Scaling and Cropping**\n",
    "  ```python\n",
    "  transforms.RandomResizedCrop(size=(224, 224))\n",
    "  ```"
   ]
  },
  {
   "cell_type": "markdown",
   "metadata": {},
   "source": [
    "##### **Combining Transformations**\n",
    "You can chain multiple transformations using `transforms.Compose`:\n",
    "```python\n",
    "transform = transforms.Compose([\n",
    "    transforms.RandomHorizontalFlip(p=0.5),\n",
    "    transforms.RandomRotation(degrees=30),\n",
    "    transforms.ColorJitter(brightness=0.5),\n",
    "    transforms.RandomResizedCrop(size=(224, 224))\n",
    "])\n",
    "```"
   ]
  },
  {
   "cell_type": "markdown",
   "metadata": {},
   "source": [
    "##### **Advanced Augmentations**\n",
    "For more complex policies, use:\n",
    "- **AutoAugment**\n",
    "  ```python\n",
    "  transforms.AutoAugment()\n",
    "  ```\n",
    "- **RandAugment**\n",
    "  ```python\n",
    "  transforms.RandAugment(num_ops=3, magnitude=5)\n",
    "  ```"
   ]
  },
  {
   "cell_type": "markdown",
   "metadata": {},
   "source": [
    "#### **Practical Tips**\n",
    "1. **Augment During Training Only**: Avoid applying augmentations on validation and test datasets.\n",
    "2. **Experiment**: Different datasets benefit from different augmentation strategies. Experiment to find the best combination.\n",
    "3. **Use GPU for Large Datasets**: Consider leveraging GPUs for preprocessing when dealing with large datasets."
   ]
  },
  {
   "cell_type": "markdown",
   "metadata": {},
   "source": [
    "Data augmentation is a simple yet powerful tool to enhance model training. PyTorch's `torchvision.transforms` module provides an extensive range of augmentations to experiment with. By integrating augmentation into your workflow, you can significantly improve your model's robustness and accuracy."
   ]
  }
 ],
 "metadata": {
  "kernelspec": {
   "display_name": "venv",
   "language": "python",
   "name": "python3"
  },
  "language_info": {
   "codemirror_mode": {
    "name": "ipython",
    "version": 3
   },
   "file_extension": ".py",
   "mimetype": "text/x-python",
   "name": "python",
   "nbconvert_exporter": "python",
   "pygments_lexer": "ipython3",
   "version": "3.12.7"
  }
 },
 "nbformat": 4,
 "nbformat_minor": 2
}
