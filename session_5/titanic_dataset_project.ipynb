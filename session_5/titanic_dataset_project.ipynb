{
 "cells": [
  {
   "cell_type": "markdown",
   "metadata": {},
   "source": [
    "## Titanic Dataset Project\n",
    "\n",
    "### Objective:\n",
    "Create a predictive model to determine the survival of passengers on the Titanic using the Titanic dataset. This project will involve **Exploratory Data Analysis (EDA)**, model training with **train-test splits** and **cross-validation**, and selecting the best model based on **evaluation metrics**.\n",
    "\n",
    "### Instructions:\n",
    "1. **Setup**:  \n",
    "   - Use **Google Colab** or a **Jupyter Notebook** for this project.\n",
    "   - Download the [Titanic dataset](https://www.kaggle.com/c/titanic/data) from Kaggle. \n",
    "\n",
    "2. **Data Exploration and Cleaning**:  \n",
    "   - Load and explore the dataset.\n",
    "   - Handle missing values appropriately.\n",
    "   - Perform EDA to understand the data (e.g., visualize survival rates by different features such as gender, class, and age).\n",
    "\n",
    "3. **Feature Engineering**:  \n",
    "   - Process categorical variables using techniques like one-hot encoding.\n",
    "   - Engineer new features (if relevant) to improve model performance.\n",
    "\n",
    "4. **Model Building**:  \n",
    "   - Split the data into training and testing sets.\n",
    "   - Train at least three different machine learning models, such as:\n",
    "     - Logistic Regression\n",
    "     - Random Forest\n",
    "     - Support Vector Machines\n",
    "   - Use **cross-validation** to evaluate the performance of each model.\n",
    "\n",
    "5. **Hyperparameter Tuning**:  \n",
    "   - Apply hyperparameter tuning (e.g., using GridSearchCV or RandomizedSearchCV) to optimize the models.\n",
    "\n",
    "6. **Model Evaluation**:  \n",
    "   - Evaluate models using appropriate metrics (e.g., accuracy, precision, recall,..).\n",
    "   - Compare the results and select the best model.\n",
    "\n",
    "7. **Documentation**:  \n",
    "   - Summarize your findings and justify your choice of the best model.\n",
    "\n",
    "8. **Submission**:  \n",
    "   - Submit your completed notebook (in `.ipynb` format) and a brief summary of your approach and results.\n",
    "\n",
    "### Bonus Challenge:  \n",
    "Use feature importance (e.g., from Random Forests) or SHAP values to interpret your model and discuss which features contribute most to survival predictions."
   ]
  },
  {
   "cell_type": "markdown",
   "metadata": {},
   "source": []
  }
 ],
 "metadata": {
  "language_info": {
   "name": "python"
  }
 },
 "nbformat": 4,
 "nbformat_minor": 2
}
