{
 "cells": [
  {
   "cell_type": "markdown",
   "metadata": {},
   "source": [
    "<img src=\"../images/cover.jpg\" width=\"1920\"/>"
   ]
  },
  {
   "cell_type": "markdown",
   "metadata": {},
   "source": [
    "# Unsupervised Learning"
   ]
  },
  {
   "cell_type": "markdown",
   "metadata": {},
   "source": [
    "## Introduction\n",
    "Unsupervised learning is a type of machine learning where algorithms learn patterns from data without labeled responses. Unlike supervised learning, where we have input-output pairs (e.g., emails labeled as spam/not spam), unsupervised learning works with unlabeled data."
   ]
  },
  {
   "cell_type": "markdown",
   "metadata": {},
   "source": [
    "### Understanding Unsupervised Datasets: A Customer Segmentation Example\n",
    "\n",
    "Customer segmentation is a powerful technique in data analysis that involves dividing a company's customer base into distinct groups or segments. These segments are formed based on shared characteristics, such as purchasing behavior, browsing patterns, and demographic information. The goal is to understand the unique traits and needs of each group, allowing companies to tailor their marketing, product offerings, and customer service strategies more effectively.\n",
    "\n",
    "In unsupervised learning, customer segmentation is achieved without predefined labels or categories. For example:\n",
    "\n",
    "- **Input Data**: Customer purchase history, browsing patterns, and demographic data.\n",
    "- **No Labels**: We don't have predefined groups or labels for each customer.\n",
    "- **Goal**: To discover natural clusters within the customer data that reveal meaningful segmentations."
   ]
  },
  {
   "cell_type": "markdown",
   "metadata": {},
   "source": [
    "## K-means Clustering"
   ]
  },
  {
   "cell_type": "markdown",
   "metadata": {},
   "source": [
    "### Introduction\n",
    "K-means clustering is one of the simplest and most popular unsupervised learning algorithms. It partitions n observations into k clusters, where each observation belongs to the cluster with the nearest mean (cluster center)."
   ]
  },
  {
   "cell_type": "markdown",
   "metadata": {},
   "source": [
    "<img src=\"../images/k_means_clusters.jpg\" width=\"1920\"/>"
   ]
  },
  {
   "cell_type": "markdown",
   "metadata": {},
   "source": [
    "### When to Use K-means\n",
    "- When you want to segment data into distinct groups\n",
    "- When your data has roughly spherical clusters\n",
    "- When the number of clusters is known or can be estimated\n",
    "- When dealing with numerical features\n",
    "- When you need a simple, fast clustering solution"
   ]
  },
  {
   "cell_type": "markdown",
   "metadata": {},
   "source": [
    "### Implementation"
   ]
  },
  {
   "cell_type": "code",
   "execution_count": null,
   "metadata": {},
   "outputs": [],
   "source": [
    "# Imports\n",
    "import numpy as np\n",
    "import pandas as pd\n",
    "import matplotlib.pyplot as plt\n",
    "from sklearn.cluster import KMeans\n",
    "from sklearn.preprocessing import StandardScaler"
   ]
  },
  {
   "cell_type": "code",
   "execution_count": null,
   "metadata": {},
   "outputs": [],
   "source": [
    "# Example dataset\n",
    "data = {\n",
    "    \"customer_id\": range(1000),\n",
    "    \"annual_income\": np.random.normal(50000, 15000, 1000),\n",
    "    \"spending_score\": np.random.normal(50, 25, 1000),\n",
    "    \"age\": np.random.normal(35, 12, 1000),\n",
    "}\n",
    "\n",
    "df = pd.DataFrame(data)\n",
    "df.head()"
   ]
  },
  {
   "cell_type": "code",
   "execution_count": null,
   "metadata": {},
   "outputs": [],
   "source": [
    "# Standardize the features\n",
    "scaler = StandardScaler()\n",
    "features_scaled = scaler.fit_transform(df[[\"annual_income\", \"spending_score\", \"age\"]])\n",
    "\n",
    "print(features_scaled[:5])"
   ]
  },
  {
   "cell_type": "code",
   "execution_count": null,
   "metadata": {},
   "outputs": [],
   "source": [
    "# Visualize the raw data\n",
    "plt.figure(figsize=(10, 6))\n",
    "plt.scatter(features_scaled[:, 0], features_scaled[:, 1])\n",
    "plt.xlabel(\"Annual Income\")\n",
    "plt.ylabel(\"Spending Score\")\n",
    "plt.show()"
   ]
  },
  {
   "cell_type": "code",
   "execution_count": null,
   "metadata": {},
   "outputs": [],
   "source": [
    "X = features_scaled[\n",
    "    :, :2\n",
    "]  # Using first two features for visualization (annual_income and spending_score)"
   ]
  },
  {
   "cell_type": "code",
   "execution_count": null,
   "metadata": {},
   "outputs": [],
   "source": [
    "# Define the number of clusters\n",
    "n_clusters = 3"
   ]
  },
  {
   "cell_type": "code",
   "execution_count": null,
   "metadata": {},
   "outputs": [],
   "source": [
    "# Initialize and fit K-means\n",
    "kmeans = KMeans(n_clusters=n_clusters, random_state=42)\n",
    "cluster_labels = kmeans.fit_predict(X)\n",
    "centers = kmeans.cluster_centers_\n",
    "\n",
    "print(\"Cluster Centers:\\n\", centers)"
   ]
  },
  {
   "cell_type": "code",
   "execution_count": null,
   "metadata": {},
   "outputs": [],
   "source": [
    "for x, label in zip(X[:5], cluster_labels[:5]):\n",
    "    print(f\"Input: {x}, Belongs to cluster: {label}\")"
   ]
  },
  {
   "cell_type": "code",
   "execution_count": null,
   "metadata": {},
   "outputs": [],
   "source": [
    "# Plot results (for 2D data)\n",
    "plt.figure(figsize=(10, 6))\n",
    "scatter = plt.scatter(X[:, 0], X[:, 1], c=cluster_labels, cmap=\"viridis\")\n",
    "plt.scatter(centers[:, 0], centers[:, 1], c=\"red\", marker=\"x\", s=200, linewidth=3)\n",
    "plt.title(\"K-means Clustering Results\")\n",
    "plt.colorbar(scatter)\n",
    "plt.show()"
   ]
  }
 ],
 "metadata": {
  "kernelspec": {
   "display_name": "venv",
   "language": "python",
   "name": "python3"
  },
  "language_info": {
   "codemirror_mode": {
    "name": "ipython",
    "version": 3
   },
   "file_extension": ".py",
   "mimetype": "text/x-python",
   "name": "python",
   "nbconvert_exporter": "python",
   "pygments_lexer": "ipython3",
   "version": "3.12.7"
  }
 },
 "nbformat": 4,
 "nbformat_minor": 2
}
