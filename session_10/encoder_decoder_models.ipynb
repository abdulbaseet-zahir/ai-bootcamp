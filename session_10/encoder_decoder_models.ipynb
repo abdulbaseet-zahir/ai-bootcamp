{
  "cells": [
    {
      "cell_type": "markdown",
      "metadata": {
        "id": "W9KUvTF15tDP"
      },
      "source": [
        "<img src=\"../images/cover.jpg\" width=\"1920\"/>"
      ]
    },
    {
      "cell_type": "code",
      "execution_count": 1,
      "metadata": {
        "id": "JGafWCJQjYyb"
      },
      "outputs": [],
      "source": [
        "# !pip install datasets -q"
      ]
    },
    {
      "cell_type": "markdown",
      "metadata": {
        "id": "fx80n_5Y5ks3"
      },
      "source": [
        "# Encoder-Decoder Models\n",
        "\n",
        "Encoder-decoder models are a foundational architecture in deep learning, primarily designed for sequence-to-sequence (seq2seq) tasks like machine translation, text summarization, and question answering. These models consist of two distinct components:\n",
        "\n",
        "1. **Encoder**: Encodes the input sequence into a fixed-size representation, often referred to as the latent space. This representation captures the semantic meaning of the input.\n",
        "\n",
        "2. **Decoder**: Decodes the latent representation into the output sequence. It generates tokens step-by-step, conditioning on both the latent representation and the tokens generated so far."
      ]
    },
    {
      "cell_type": "markdown",
      "metadata": {
        "id": "EJCRby-j5kyc"
      },
      "source": [
        "<img src=\"../images/encoder-decoder-model.png\" width=\"1920\"/>"
      ]
    },
    {
      "cell_type": "markdown",
      "metadata": {
        "id": "FAR2H7CT6MV5"
      },
      "source": [
        "Encoder-decoder models closely resemble the architecture proposed in the seminal paper *\"Attention Is All You Need\"*, which introduced the Transformer. The Transformer uses self-attention mechanisms to capture relationships between tokens in a sequence, regardless of their positional distance."
      ]
    },
    {
      "cell_type": "markdown",
      "metadata": {
        "id": "HXyX3zKl42DK"
      },
      "source": [
        "\n",
        "\n",
        "#### Workflow to Create a Transformer Model:\n",
        "1. **Define the Encoder and Decoder**:\n",
        "   - The encoder encodes the input sequence.\n",
        "   - The decoder uses cross-attention to decode and generate the output sequence.\n",
        "\n",
        "2. **Combine Components**:\n",
        "   - Use `EncoderDecoderModel` to combine the encoder and decoder into a single architecture.\n",
        "\n",
        "3. **Configure Special Tokens**:\n",
        "   - Define special tokens like `pad_token_id`, `eos_token_id`, and `decoder_start_token_id` to control input and output processing.\n",
        "\n",
        "4. **Train or Fine-tune**:\n",
        "   - Fine-tune the model on seq2seq datasets using frameworks like `Seq2SeqTrainer`.\n",
        "\n",
        "The `EncoderDecoderModel` abstracts much of the complexity, enabling researchers and developers to focus on the task at hand while leveraging state-of-the-art Transformer capabilities."
      ]
    },
    {
      "cell_type": "code",
      "execution_count": 2,
      "metadata": {
        "id": "Nu0XB-ODjR8h"
      },
      "outputs": [],
      "source": [
        "from transformers import (\n",
        "    EncoderDecoderModel,\n",
        "    BertTokenizer,\n",
        "    Seq2SeqTrainer,\n",
        "    Seq2SeqTrainingArguments,\n",
        ")\n",
        "\n",
        "\n",
        "from datasets import load_dataset\n",
        "\n",
        "\n",
        "import torch"
      ]
    },
    {
      "cell_type": "code",
      "execution_count": null,
      "metadata": {
        "colab": {
          "base_uri": "https://localhost:8080/"
        },
        "id": "tfgaCg6LjTtw",
        "outputId": "bd4a8d6a-f77f-4050-81d5-3f14f3a002e4"
      },
      "outputs": [],
      "source": [
        "# Check for GPU\n",
        "device = torch.device(\"cuda\") if torch.cuda.is_available() else torch.device(\"cpu\")\n",
        "print(f\"Using device: {device}\")"
      ]
    },
    {
      "cell_type": "markdown",
      "metadata": {
        "id": "i3R3MKrT7ob1"
      },
      "source": [
        "# Data Preparation\n",
        "Preparing data for training an encoder-decoder model for a machine translation task, converting English (\"en\") to French (\"fr\"). Here's a breakdown of its functionality:"
      ]
    },
    {
      "cell_type": "markdown",
      "metadata": {
        "id": "-k6TqKLu7p3L"
      },
      "source": []
    },
    {
      "cell_type": "markdown",
      "metadata": {
        "id": "0Q95fvWj7zA1"
      },
      "source": [
        "1. **Loading the Tokenizer**:\n",
        "   - The `BertTokenizer` is loaded from the pre-trained \"bert-base-uncased\" model.\n",
        "   - Special tokens for the beginning-of-sequence (`bos_token`) and end-of-sequence (`eos_token`) are mapped to BERT's `[CLS]` and `[SEP]` tokens, respectively, for compatibility with seq2seq tasks."
      ]
    },
    {
      "cell_type": "code",
      "execution_count": null,
      "metadata": {
        "colab": {
          "base_uri": "https://localhost:8080/",
          "height": 81,
          "referenced_widgets": [
            "f78c97329ee44932b3aaf447c8f49a02",
            "cd166c8ea764492f9b46673ce27f6398",
            "216e00f92cfe4fda963ac90460070b19",
            "698c1dda386f459db612184b957c77c1",
            "d5ee61e66db1472d85ae9a588f943d76",
            "f7e0875f7fd647b59ade2f397f7a3328",
            "c928447f04924aaf9c395b25ba8cb543",
            "afe450f55d4e4ab8846aa3d0f08c05af",
            "069464c0b3ae4cd499591fa92a21a1a4",
            "2e0a79f4bfdb4df282cf9ef56f7eb00c",
            "608c1492f6df4ba88c8a31d7a7dff601",
            "fc38d8d0c360436eaf963da0eec65468",
            "eb58a0ef37094426baedc5ee6b93020e",
            "af112e2bbc504767b369c03fb8ea6b9c",
            "5c6242200535413eaa3103b55a527090",
            "3222bc39e6f04a13b92282b1e9a96b3b",
            "a25c15a8bbb44e3a8a0f83a35fe8541e",
            "c1459ccbcc1d42fcb55ce7185aed0f39",
            "3ee3ff7cf3504d9fabff98c29a0672f5",
            "6458912ff772421fa236a137eb7bbd03",
            "e1fb69c9f2464be989fd582bd46ffe1f",
            "f9412e7b6b8a46759bddbbc747f3ab2a"
          ]
        },
        "id": "o0ZkaZegjqPS",
        "outputId": "0790f9e5-e7b1-4f3b-9b28-f9ebd938c1cd"
      },
      "outputs": [],
      "source": [
        "# Load tokenizer (BERT tokenizer in this example)\n",
        "tokenizer = BertTokenizer.from_pretrained(\"prajjwal1/bert-small\")"
      ]
    },
    {
      "cell_type": "code",
      "execution_count": 31,
      "metadata": {
        "id": "QBBMXP4fzp9O"
      },
      "outputs": [],
      "source": [
        "tokenizer.bos_token = tokenizer.cls_token\n",
        "tokenizer.eos_token = tokenizer.sep_token"
      ]
    },
    {
      "cell_type": "markdown",
      "metadata": {
        "id": "j-PDuQgt74sp"
      },
      "source": [
        "2. **Loading the Dataset**:\n",
        "   - The `opus_books` dataset, a machine translation dataset for English-to-French, is loaded using the Hugging Face `datasets` library.\n",
        "   - The dataset is split into training (90%) and validation (10%) subsets."
      ]
    },
    {
      "cell_type": "code",
      "execution_count": 32,
      "metadata": {
        "id": "dZ9h_vp0klH1"
      },
      "outputs": [],
      "source": [
        "# Load dataset\n",
        "train_data = load_dataset(\"opus_books\", \"en-fr\", split=\"train[10%:]\")\n",
        "val_data = load_dataset(\"opus_books\", \"en-fr\", split=\"train[:10%]\")"
      ]
    },
    {
      "cell_type": "code",
      "execution_count": null,
      "metadata": {
        "colab": {
          "base_uri": "https://localhost:8080/"
        },
        "id": "-6UObcuW3Khd",
        "outputId": "da7d80e9-5f05-4131-fef5-46fe7634d30a"
      },
      "outputs": [],
      "source": [
        "train_data, val_data"
      ]
    },
    {
      "cell_type": "code",
      "execution_count": 34,
      "metadata": {
        "id": "AbMndCTY2duJ"
      },
      "outputs": [],
      "source": [
        "# only use 32 training examples for notebook - DELETE LINEs FOR FULL TRAINING\n",
        "train_data = train_data.select(range(1000))\n",
        "val_data = val_data.select(range(1000))"
      ]
    },
    {
      "cell_type": "markdown",
      "metadata": {
        "id": "paVONEUg780a"
      },
      "source": [
        "3. **Preprocessing Function**:\n",
        "   - The `preprocess_function` tokenizes the input and target sentences:\n",
        "     - **Input**: English sentences are tokenized into `input_ids` and padded/truncated to a maximum length of 128.\n",
        "     - **Target**: French sentences are tokenized similarly, with their tokenized IDs stored as `labels`.\n",
        "   - Both `input_ids` (tokenized input) and `attention_mask` (mask for padding tokens) are extracted for the model's encoder, while the target `input_ids` serve as labels for the decoder."
      ]
    },
    {
      "cell_type": "code",
      "execution_count": 35,
      "metadata": {
        "id": "c1rImXRAlIvY"
      },
      "outputs": [],
      "source": [
        "# Preprocessing function\n",
        "def preprocess_function(examples):\n",
        "    inputs = [ex[\"en\"] for ex in examples[\"translation\"]]\n",
        "    targets = [ex[\"fr\"] for ex in examples[\"translation\"]]\n",
        "    model_inputs = tokenizer(\n",
        "        inputs, max_length=128, truncation=True, padding=\"max_length\"\n",
        "    )\n",
        "    labels = tokenizer(targets, max_length=128, truncation=True, padding=\"max_length\")\n",
        "\n",
        "    examples[\"input_ids\"] = model_inputs[\"input_ids\"]\n",
        "    examples[\"attention_mask\"] = model_inputs[\"attention_mask\"]\n",
        "    examples[\"labels\"] = labels[\"input_ids\"]\n",
        "    return examples"
      ]
    },
    {
      "cell_type": "markdown",
      "metadata": {
        "id": "KYpXoY408Ks3"
      },
      "source": [
        "4. **Dataset Preprocessing**:\n",
        "   - The `train_data` and `val_data` subsets are preprocessed using the `preprocess_function`:\n",
        "     - The tokenized inputs and labels are added to the dataset.\n",
        "     - Original dataset columns are removed to keep only model-relevant fields (`input_ids`, `attention_mask`, and `labels`)."
      ]
    },
    {
      "cell_type": "code",
      "execution_count": null,
      "metadata": {
        "colab": {
          "base_uri": "https://localhost:8080/",
          "height": 81,
          "referenced_widgets": [
            "7983e6c160d94fd691e30b2e9bf777d1",
            "2fd2f5c93f7b468b920f67f0e19b87c4",
            "a977c653df244c0d90a2abbd303d6ad5",
            "122ef89d1db9429285f53092acae7ba7",
            "68ca2eb168194b999514a211f818f8c1",
            "e48e98db656243f3a44db080df2e5942",
            "6e1d219ae73a49c9935e5b5e2f85d934",
            "7c9a9331d75941dcbb910292f69a39c8",
            "66df8e1cd0b040e68eaf127e35c23d2a",
            "e7e8b0efa69f4e969ccdd162f1b4b00d",
            "44aa991e03f94d89b31346b5b5e01dd3",
            "a9bf7cad8ed74ffb84c56bdc48529a9c",
            "2b86c3f73e42426e96d0efbf493f235c",
            "68c677f0b8f441368e7aa8a1f605c009",
            "12bc9eab06a24bed8b7a660a2ea56580",
            "04dabd226240479494591b587e6cd965",
            "ea95f5ef2c8d47979a30fa54621bb2ac",
            "0b29ef7783214dfebcf052b24dacd136",
            "ae7353b2bd6f48558fb3fc03d3147bba",
            "d8cc378db6e84f70a6df3ae9f56b206d",
            "c4a968fa0e4848e5928486a25fa469f5",
            "081fecde605c4f83a782bfed951f3c7f"
          ]
        },
        "id": "uuUe00WdlKOo",
        "outputId": "3c947ad6-d1a6-4a00-c81f-7beaebab3c1a"
      },
      "outputs": [],
      "source": [
        "# Preprocess the dataset\n",
        "encoded_train_dataset = train_data.map(\n",
        "    preprocess_function, batched=True, remove_columns=train_data.column_names\n",
        ")\n",
        "encoded_val_dataset = val_data.map(\n",
        "    preprocess_function, batched=True, remove_columns=val_data.column_names\n",
        ")"
      ]
    },
    {
      "cell_type": "markdown",
      "metadata": {
        "id": "EFL_tmm27UzM"
      },
      "source": [
        "\n",
        "\n",
        "\n",
        "\n",
        "\n",
        "\n",
        "\n",
        "\n",
        "\n",
        "\n",
        "This results in tokenized and structured datasets ready for training and evaluation in a seq2seq task using an encoder-decoder model."
      ]
    },
    {
      "cell_type": "markdown",
      "metadata": {
        "id": "BhW7MKbj6mWb"
      },
      "source": [
        "# Hugging Face's `EncoderDecoderModel`\n",
        "\n",
        "The Hugging Face `EncoderDecoderModel` is a flexible framework for building and fine-tuning encoder-decoder architectures. It allows users to combine different pre-trained models for the encoder and decoder or train a model from scratch.\n",
        "\n",
        "#### Features:\n",
        "1. **Modular Design**: You can pair any Transformer-based encoder (e.g., BERT, RoBERTa) with a compatible decoder (e.g., GPT, BERT).\n",
        "2. **Ease of Customization**: The library supports defining custom configurations for the encoder and decoder, including the number of layers, attention heads, and hidden dimensions.\n",
        "3. **Pre-trained Models**: You can start with pre-trained weights to leverage existing knowledge or train a model from scratch for specialized tasks.\n",
        "4. **Training Support**: Includes tools like `Seq2SeqTrainer` for efficient training, evaluation, and inference."
      ]
    },
    {
      "cell_type": "code",
      "execution_count": null,
      "metadata": {
        "colab": {
          "base_uri": "https://localhost:8080/",
          "height": 104,
          "referenced_widgets": [
            "9c5baccca2a644e0a8df1f4125e1629e",
            "e5d031ac075948d895b725ce0ad69828",
            "9eea9dce2ffd4caabc67210de51bd571",
            "3aa7a1d6607b4aa882e177ad4165f0fb",
            "d1c917377f5d43c490131134763058c2",
            "b1878ed91ce342fc9b641a2b909e01e9",
            "4bf2157fc7374a56b84e7f4de0b5c7d2",
            "59dd59d40f7c4290b45920883debdf5d",
            "0f29297d86454baf852aa4c8fff59653",
            "2f45949a74b24cd2b631c56376f5bec5",
            "bd2199687d234e75a296b80106de7d43"
          ]
        },
        "id": "KDatp7Kvpker",
        "outputId": "78e8f4f3-5072-49ff-a960-86a57567990e"
      },
      "outputs": [],
      "source": [
        "# Load EncoderDecoderModel\n",
        "model = EncoderDecoderModel.from_encoder_decoder_pretrained(\n",
        "    \"prajjwal1/bert-small\", \"prajjwal1/bert-small\"\n",
        ")"
      ]
    },
    {
      "cell_type": "markdown",
      "metadata": {
        "id": "08LAhGySDmFJ"
      },
      "source": [
        "he method `model.num_parameters()` is typically used to return the total number of parameters in a model. Parameters are the weights and biases that the model learns during training, and their count gives an indication of the model's complexity and size."
      ]
    },
    {
      "cell_type": "code",
      "execution_count": null,
      "metadata": {
        "colab": {
          "base_uri": "https://localhost:8080/"
        },
        "id": "FhMpnmAdCjtC",
        "outputId": "01988964-3bd5-410e-ba12-62bd51d2ecb4"
      },
      "outputs": [],
      "source": [
        "print(f\"{model.num_parameters():,} trainable parameters\")"
      ]
    },
    {
      "cell_type": "markdown",
      "metadata": {
        "id": "HxZIP9d18oRy"
      },
      "source": [
        "### Configuration\n",
        "Configuring the encoder-decoder model with essential special tokens:\n",
        "\n",
        "1. **`decoder_start_token_id`**:\n",
        "   - Specifies the token ID that signals the start of the decoder's generation process.\n",
        "   - Here, it is set to the ID of the beginning-of-sequence (`bos_token`).\n",
        "\n",
        "2. **`eos_token_id`**:\n",
        "   - Specifies the token ID that indicates the end of a sequence during decoding.\n",
        "   - Here, it is set to the ID of the end-of-sequence (`eos_token`).\n",
        "\n",
        "3. **`pad_token_id`**:\n",
        "   - Specifies the token ID used for padding sequences to ensure uniform length during training or inference.\n",
        "   - Here, it is set to the ID of the padding token (`pad_token`).\n",
        "\n",
        "These configurations are critical for properly managing sequence boundaries and padding in encoder-decoder models during training and generation."
      ]
    },
    {
      "cell_type": "code",
      "execution_count": 39,
      "metadata": {
        "id": "OvDjsh1ipt78"
      },
      "outputs": [],
      "source": [
        "# Set special tokens\n",
        "model.config.decoder_start_token_id = tokenizer.bos_token_id\n",
        "model.config.eos_token_id = tokenizer.eos_token_id\n",
        "model.config.pad_token_id = tokenizer.pad_token_id"
      ]
    },
    {
      "cell_type": "markdown",
      "metadata": {
        "id": "iWQ6ur6Y9NVp"
      },
      "source": [
        "### Training Arguments\n",
        "\n",
        "`Seq2SeqTrainingArguments` specifies the configuration and hyperparameters needed for training and evaluating a sequence-to-sequence (seq2seq) model. It provides an easy way to define settings like batch size, learning rate, number of epochs, and evaluation strategy, which the trainer uses during the training process."
      ]
    },
    {
      "cell_type": "code",
      "execution_count": 40,
      "metadata": {
        "id": "CHrr8SYP9q8P"
      },
      "outputs": [],
      "source": [
        "training_args = Seq2SeqTrainingArguments(\n",
        "    output_dir=\"./results\",\n",
        "    eval_strategy=\"epoch\",\n",
        "    learning_rate=5e-5,\n",
        "    per_device_train_batch_size=16,\n",
        "    per_device_eval_batch_size=16,\n",
        "    weight_decay=0.01,\n",
        "    save_total_limit=1,\n",
        "    num_train_epochs=30,\n",
        "    predict_with_generate=True,\n",
        "    logging_dir=\"./logs\",\n",
        "    logging_steps=10,\n",
        "    report_to=\"none\",\n",
        ")"
      ]
    },
    {
      "cell_type": "markdown",
      "metadata": {
        "id": "wFbkWHYc9jtO"
      },
      "source": [
        "### Trainer\n",
        "`Seq2SeqTrainer` manages the entire training and evaluation process for seq2seq models. It handles:\n",
        "- Optimizing the model.\n",
        "- Computing gradients.\n",
        "- Running evaluations during training.\n",
        "- Generating predictions for validation.\n",
        "- Saving and loading model checkpoints."
      ]
    },
    {
      "cell_type": "code",
      "execution_count": 41,
      "metadata": {
        "id": "SDNeE5yBpyn_"
      },
      "outputs": [],
      "source": [
        "trainer = Seq2SeqTrainer(\n",
        "    model=model,\n",
        "    args=training_args,\n",
        "    train_dataset=encoded_train_dataset,\n",
        "    eval_dataset=encoded_val_dataset,\n",
        "    processing_class=tokenizer,\n",
        ")"
      ]
    },
    {
      "cell_type": "code",
      "execution_count": null,
      "metadata": {
        "colab": {
          "base_uri": "https://localhost:8080/",
          "height": 1000
        },
        "id": "PkqsPszEqFAf",
        "outputId": "bf623b63-c002-4522-ac99-e3bc353a1ea0"
      },
      "outputs": [],
      "source": [
        "# Train the model\n",
        "trainer.train()"
      ]
    },
    {
      "cell_type": "markdown",
      "metadata": {
        "id": "-lQjhMloAujX"
      },
      "source": [
        "Save the trained model and tokenizer to the specified directory, `\"translation_model\"`, so they can be reloaded later for inference or further fine-tuning. The `save_pretrained` method ensures all necessary configurations and weights are stored for both the model and tokenizer."
      ]
    },
    {
      "cell_type": "code",
      "execution_count": null,
      "metadata": {
        "colab": {
          "base_uri": "https://localhost:8080/"
        },
        "id": "k31A0LZsjEk5",
        "outputId": "ee9e83ae-504b-4b9c-9aaa-21189ab5316b"
      },
      "outputs": [],
      "source": [
        "# Save the model\n",
        "model.save_pretrained(\"translation_model\")\n",
        "tokenizer.save_pretrained(\"translation_model\")\n",
        "\n",
        "print(\"Model training completed and saved!\")"
      ]
    },
    {
      "cell_type": "markdown",
      "metadata": {
        "id": "Kh6kKXkDA0sz"
      },
      "source": [
        "Using pre-trained transformer-based Encoder-Decoder model for translation by loading the model and its tokenizer, and moving the model to a GPU (if available) for efficient computation."
      ]
    },
    {
      "cell_type": "code",
      "execution_count": null,
      "metadata": {
        "colab": {
          "base_uri": "https://localhost:8080/"
        },
        "id": "g4mVXA1RCArF",
        "outputId": "2ceb7605-7f7a-43f3-ad7f-763ac167e41e"
      },
      "outputs": [],
      "source": [
        "from transformers import EncoderDecoderModel, BertTokenizer\n",
        "import torch\n",
        "\n",
        "# Load the saved model and tokenizer\n",
        "model = EncoderDecoderModel.from_pretrained(\"translation_model\")\n",
        "tokenizer = BertTokenizer.from_pretrained(\"translation_model\")\n",
        "\n",
        "# Move model to device (GPU or CPU)\n",
        "device = torch.device(\"cuda\") if torch.cuda.is_available() else torch.device(\"cpu\")\n",
        "model.to(device)"
      ]
    },
    {
      "cell_type": "markdown",
      "metadata": {
        "id": "bkpoLokHCC8o"
      },
      "source": [
        "Then we tokenize an example input text (\"my name\") and prepare it for inference. The input is passed through the model to generate a translation, using beam search for better quality."
      ]
    },
    {
      "cell_type": "code",
      "execution_count": 47,
      "metadata": {
        "id": "kEdydfWRCJLK"
      },
      "outputs": [],
      "source": [
        "# Example input for inference\n",
        "input_text = \"my name\"\n",
        "inputs = tokenizer(\n",
        "    input_text, return_tensors=\"pt\", padding=True, truncation=True, max_length=128\n",
        ")\n",
        "\n",
        "# Move inputs to device\n",
        "inputs = {key: value.to(device) for key, value in inputs.items()}\n",
        "\n",
        "# Generate translation\n",
        "output_ids = model.generate(\n",
        "    inputs[\"input_ids\"],\n",
        "    max_length=128,\n",
        "    num_beams=4,\n",
        "    early_stopping=True,\n",
        "    decoder_start_token_id=tokenizer.cls_token_id,\n",
        ")"
      ]
    },
    {
      "cell_type": "markdown",
      "metadata": {
        "id": "7Br5H9FkCFb_"
      },
      "source": [
        "The translated output is decoded back into text and printed along with the original input."
      ]
    },
    {
      "cell_type": "code",
      "execution_count": null,
      "metadata": {
        "colab": {
          "base_uri": "https://localhost:8080/"
        },
        "id": "AEkoDWbet06e",
        "outputId": "1b8e5532-1e71-453b-aaf8-0fd56b315934"
      },
      "outputs": [],
      "source": [
        "translation = tokenizer.decode(output_ids[0], skip_special_tokens=True)\n",
        "\n",
        "print(\"Input:\", input_text)\n",
        "print(\"Translation:\", translation)"
      ]
    },
    {
      "cell_type": "code",
      "execution_count": null,
      "metadata": {
        "id": "FArjTT8W8N4K"
      },
      "outputs": [],
      "source": []
    }
  ],
  "metadata": {
    "accelerator": "GPU",
    "colab": {
      "gpuType": "T4",
      "provenance": []
    },
    "kernelspec": {
      "display_name": "Python 3",
      "name": "python3"
    },
    "language_info": {
      "name": "python"
    },
    "widgets": {
      "application/vnd.jupyter.widget-state+json": {
        "04dabd226240479494591b587e6cd965": {
          "model_module": "@jupyter-widgets/base",
          "model_module_version": "1.2.0",
          "model_name": "LayoutModel",
          "state": {
            "_model_module": "@jupyter-widgets/base",
            "_model_module_version": "1.2.0",
            "_model_name": "LayoutModel",
            "_view_count": null,
            "_view_module": "@jupyter-widgets/base",
            "_view_module_version": "1.2.0",
            "_view_name": "LayoutView",
            "align_content": null,
            "align_items": null,
            "align_self": null,
            "border": null,
            "bottom": null,
            "display": null,
            "flex": null,
            "flex_flow": null,
            "grid_area": null,
            "grid_auto_columns": null,
            "grid_auto_flow": null,
            "grid_auto_rows": null,
            "grid_column": null,
            "grid_gap": null,
            "grid_row": null,
            "grid_template_areas": null,
            "grid_template_columns": null,
            "grid_template_rows": null,
            "height": null,
            "justify_content": null,
            "justify_items": null,
            "left": null,
            "margin": null,
            "max_height": null,
            "max_width": null,
            "min_height": null,
            "min_width": null,
            "object_fit": null,
            "object_position": null,
            "order": null,
            "overflow": null,
            "overflow_x": null,
            "overflow_y": null,
            "padding": null,
            "right": null,
            "top": null,
            "visibility": null,
            "width": null
          }
        },
        "069464c0b3ae4cd499591fa92a21a1a4": {
          "model_module": "@jupyter-widgets/controls",
          "model_module_version": "1.5.0",
          "model_name": "ProgressStyleModel",
          "state": {
            "_model_module": "@jupyter-widgets/controls",
            "_model_module_version": "1.5.0",
            "_model_name": "ProgressStyleModel",
            "_view_count": null,
            "_view_module": "@jupyter-widgets/base",
            "_view_module_version": "1.2.0",
            "_view_name": "StyleView",
            "bar_color": null,
            "description_width": ""
          }
        },
        "081fecde605c4f83a782bfed951f3c7f": {
          "model_module": "@jupyter-widgets/controls",
          "model_module_version": "1.5.0",
          "model_name": "DescriptionStyleModel",
          "state": {
            "_model_module": "@jupyter-widgets/controls",
            "_model_module_version": "1.5.0",
            "_model_name": "DescriptionStyleModel",
            "_view_count": null,
            "_view_module": "@jupyter-widgets/base",
            "_view_module_version": "1.2.0",
            "_view_name": "StyleView",
            "description_width": ""
          }
        },
        "0b29ef7783214dfebcf052b24dacd136": {
          "model_module": "@jupyter-widgets/controls",
          "model_module_version": "1.5.0",
          "model_name": "DescriptionStyleModel",
          "state": {
            "_model_module": "@jupyter-widgets/controls",
            "_model_module_version": "1.5.0",
            "_model_name": "DescriptionStyleModel",
            "_view_count": null,
            "_view_module": "@jupyter-widgets/base",
            "_view_module_version": "1.2.0",
            "_view_name": "StyleView",
            "description_width": ""
          }
        },
        "0f29297d86454baf852aa4c8fff59653": {
          "model_module": "@jupyter-widgets/controls",
          "model_module_version": "1.5.0",
          "model_name": "ProgressStyleModel",
          "state": {
            "_model_module": "@jupyter-widgets/controls",
            "_model_module_version": "1.5.0",
            "_model_name": "ProgressStyleModel",
            "_view_count": null,
            "_view_module": "@jupyter-widgets/base",
            "_view_module_version": "1.2.0",
            "_view_name": "StyleView",
            "bar_color": null,
            "description_width": ""
          }
        },
        "122ef89d1db9429285f53092acae7ba7": {
          "model_module": "@jupyter-widgets/controls",
          "model_module_version": "1.5.0",
          "model_name": "HTMLModel",
          "state": {
            "_dom_classes": [],
            "_model_module": "@jupyter-widgets/controls",
            "_model_module_version": "1.5.0",
            "_model_name": "HTMLModel",
            "_view_count": null,
            "_view_module": "@jupyter-widgets/controls",
            "_view_module_version": "1.5.0",
            "_view_name": "HTMLView",
            "description": "",
            "description_tooltip": null,
            "layout": "IPY_MODEL_e7e8b0efa69f4e969ccdd162f1b4b00d",
            "placeholder": "​",
            "style": "IPY_MODEL_44aa991e03f94d89b31346b5b5e01dd3",
            "value": " 1000/1000 [00:01&lt;00:00, 731.12 examples/s]"
          }
        },
        "12bc9eab06a24bed8b7a660a2ea56580": {
          "model_module": "@jupyter-widgets/controls",
          "model_module_version": "1.5.0",
          "model_name": "HTMLModel",
          "state": {
            "_dom_classes": [],
            "_model_module": "@jupyter-widgets/controls",
            "_model_module_version": "1.5.0",
            "_model_name": "HTMLModel",
            "_view_count": null,
            "_view_module": "@jupyter-widgets/controls",
            "_view_module_version": "1.5.0",
            "_view_name": "HTMLView",
            "description": "",
            "description_tooltip": null,
            "layout": "IPY_MODEL_c4a968fa0e4848e5928486a25fa469f5",
            "placeholder": "​",
            "style": "IPY_MODEL_081fecde605c4f83a782bfed951f3c7f",
            "value": " 1000/1000 [00:01&lt;00:00, 920.68 examples/s]"
          }
        },
        "216e00f92cfe4fda963ac90460070b19": {
          "model_module": "@jupyter-widgets/controls",
          "model_module_version": "1.5.0",
          "model_name": "FloatProgressModel",
          "state": {
            "_dom_classes": [],
            "_model_module": "@jupyter-widgets/controls",
            "_model_module_version": "1.5.0",
            "_model_name": "FloatProgressModel",
            "_view_count": null,
            "_view_module": "@jupyter-widgets/controls",
            "_view_module_version": "1.5.0",
            "_view_name": "ProgressView",
            "bar_style": "success",
            "description": "",
            "description_tooltip": null,
            "layout": "IPY_MODEL_afe450f55d4e4ab8846aa3d0f08c05af",
            "max": 231508,
            "min": 0,
            "orientation": "horizontal",
            "style": "IPY_MODEL_069464c0b3ae4cd499591fa92a21a1a4",
            "value": 231508
          }
        },
        "2b86c3f73e42426e96d0efbf493f235c": {
          "model_module": "@jupyter-widgets/controls",
          "model_module_version": "1.5.0",
          "model_name": "HTMLModel",
          "state": {
            "_dom_classes": [],
            "_model_module": "@jupyter-widgets/controls",
            "_model_module_version": "1.5.0",
            "_model_name": "HTMLModel",
            "_view_count": null,
            "_view_module": "@jupyter-widgets/controls",
            "_view_module_version": "1.5.0",
            "_view_name": "HTMLView",
            "description": "",
            "description_tooltip": null,
            "layout": "IPY_MODEL_ea95f5ef2c8d47979a30fa54621bb2ac",
            "placeholder": "​",
            "style": "IPY_MODEL_0b29ef7783214dfebcf052b24dacd136",
            "value": "Map: 100%"
          }
        },
        "2e0a79f4bfdb4df282cf9ef56f7eb00c": {
          "model_module": "@jupyter-widgets/base",
          "model_module_version": "1.2.0",
          "model_name": "LayoutModel",
          "state": {
            "_model_module": "@jupyter-widgets/base",
            "_model_module_version": "1.2.0",
            "_model_name": "LayoutModel",
            "_view_count": null,
            "_view_module": "@jupyter-widgets/base",
            "_view_module_version": "1.2.0",
            "_view_name": "LayoutView",
            "align_content": null,
            "align_items": null,
            "align_self": null,
            "border": null,
            "bottom": null,
            "display": null,
            "flex": null,
            "flex_flow": null,
            "grid_area": null,
            "grid_auto_columns": null,
            "grid_auto_flow": null,
            "grid_auto_rows": null,
            "grid_column": null,
            "grid_gap": null,
            "grid_row": null,
            "grid_template_areas": null,
            "grid_template_columns": null,
            "grid_template_rows": null,
            "height": null,
            "justify_content": null,
            "justify_items": null,
            "left": null,
            "margin": null,
            "max_height": null,
            "max_width": null,
            "min_height": null,
            "min_width": null,
            "object_fit": null,
            "object_position": null,
            "order": null,
            "overflow": null,
            "overflow_x": null,
            "overflow_y": null,
            "padding": null,
            "right": null,
            "top": null,
            "visibility": null,
            "width": null
          }
        },
        "2f45949a74b24cd2b631c56376f5bec5": {
          "model_module": "@jupyter-widgets/base",
          "model_module_version": "1.2.0",
          "model_name": "LayoutModel",
          "state": {
            "_model_module": "@jupyter-widgets/base",
            "_model_module_version": "1.2.0",
            "_model_name": "LayoutModel",
            "_view_count": null,
            "_view_module": "@jupyter-widgets/base",
            "_view_module_version": "1.2.0",
            "_view_name": "LayoutView",
            "align_content": null,
            "align_items": null,
            "align_self": null,
            "border": null,
            "bottom": null,
            "display": null,
            "flex": null,
            "flex_flow": null,
            "grid_area": null,
            "grid_auto_columns": null,
            "grid_auto_flow": null,
            "grid_auto_rows": null,
            "grid_column": null,
            "grid_gap": null,
            "grid_row": null,
            "grid_template_areas": null,
            "grid_template_columns": null,
            "grid_template_rows": null,
            "height": null,
            "justify_content": null,
            "justify_items": null,
            "left": null,
            "margin": null,
            "max_height": null,
            "max_width": null,
            "min_height": null,
            "min_width": null,
            "object_fit": null,
            "object_position": null,
            "order": null,
            "overflow": null,
            "overflow_x": null,
            "overflow_y": null,
            "padding": null,
            "right": null,
            "top": null,
            "visibility": null,
            "width": null
          }
        },
        "2fd2f5c93f7b468b920f67f0e19b87c4": {
          "model_module": "@jupyter-widgets/controls",
          "model_module_version": "1.5.0",
          "model_name": "HTMLModel",
          "state": {
            "_dom_classes": [],
            "_model_module": "@jupyter-widgets/controls",
            "_model_module_version": "1.5.0",
            "_model_name": "HTMLModel",
            "_view_count": null,
            "_view_module": "@jupyter-widgets/controls",
            "_view_module_version": "1.5.0",
            "_view_name": "HTMLView",
            "description": "",
            "description_tooltip": null,
            "layout": "IPY_MODEL_e48e98db656243f3a44db080df2e5942",
            "placeholder": "​",
            "style": "IPY_MODEL_6e1d219ae73a49c9935e5b5e2f85d934",
            "value": "Map: 100%"
          }
        },
        "3222bc39e6f04a13b92282b1e9a96b3b": {
          "model_module": "@jupyter-widgets/base",
          "model_module_version": "1.2.0",
          "model_name": "LayoutModel",
          "state": {
            "_model_module": "@jupyter-widgets/base",
            "_model_module_version": "1.2.0",
            "_model_name": "LayoutModel",
            "_view_count": null,
            "_view_module": "@jupyter-widgets/base",
            "_view_module_version": "1.2.0",
            "_view_name": "LayoutView",
            "align_content": null,
            "align_items": null,
            "align_self": null,
            "border": null,
            "bottom": null,
            "display": null,
            "flex": null,
            "flex_flow": null,
            "grid_area": null,
            "grid_auto_columns": null,
            "grid_auto_flow": null,
            "grid_auto_rows": null,
            "grid_column": null,
            "grid_gap": null,
            "grid_row": null,
            "grid_template_areas": null,
            "grid_template_columns": null,
            "grid_template_rows": null,
            "height": null,
            "justify_content": null,
            "justify_items": null,
            "left": null,
            "margin": null,
            "max_height": null,
            "max_width": null,
            "min_height": null,
            "min_width": null,
            "object_fit": null,
            "object_position": null,
            "order": null,
            "overflow": null,
            "overflow_x": null,
            "overflow_y": null,
            "padding": null,
            "right": null,
            "top": null,
            "visibility": null,
            "width": null
          }
        },
        "3aa7a1d6607b4aa882e177ad4165f0fb": {
          "model_module": "@jupyter-widgets/controls",
          "model_module_version": "1.5.0",
          "model_name": "HTMLModel",
          "state": {
            "_dom_classes": [],
            "_model_module": "@jupyter-widgets/controls",
            "_model_module_version": "1.5.0",
            "_model_name": "HTMLModel",
            "_view_count": null,
            "_view_module": "@jupyter-widgets/controls",
            "_view_module_version": "1.5.0",
            "_view_name": "HTMLView",
            "description": "",
            "description_tooltip": null,
            "layout": "IPY_MODEL_2f45949a74b24cd2b631c56376f5bec5",
            "placeholder": "​",
            "style": "IPY_MODEL_bd2199687d234e75a296b80106de7d43",
            "value": " 116M/116M [00:02&lt;00:00, 52.2MB/s]"
          }
        },
        "3ee3ff7cf3504d9fabff98c29a0672f5": {
          "model_module": "@jupyter-widgets/base",
          "model_module_version": "1.2.0",
          "model_name": "LayoutModel",
          "state": {
            "_model_module": "@jupyter-widgets/base",
            "_model_module_version": "1.2.0",
            "_model_name": "LayoutModel",
            "_view_count": null,
            "_view_module": "@jupyter-widgets/base",
            "_view_module_version": "1.2.0",
            "_view_name": "LayoutView",
            "align_content": null,
            "align_items": null,
            "align_self": null,
            "border": null,
            "bottom": null,
            "display": null,
            "flex": null,
            "flex_flow": null,
            "grid_area": null,
            "grid_auto_columns": null,
            "grid_auto_flow": null,
            "grid_auto_rows": null,
            "grid_column": null,
            "grid_gap": null,
            "grid_row": null,
            "grid_template_areas": null,
            "grid_template_columns": null,
            "grid_template_rows": null,
            "height": null,
            "justify_content": null,
            "justify_items": null,
            "left": null,
            "margin": null,
            "max_height": null,
            "max_width": null,
            "min_height": null,
            "min_width": null,
            "object_fit": null,
            "object_position": null,
            "order": null,
            "overflow": null,
            "overflow_x": null,
            "overflow_y": null,
            "padding": null,
            "right": null,
            "top": null,
            "visibility": null,
            "width": null
          }
        },
        "44aa991e03f94d89b31346b5b5e01dd3": {
          "model_module": "@jupyter-widgets/controls",
          "model_module_version": "1.5.0",
          "model_name": "DescriptionStyleModel",
          "state": {
            "_model_module": "@jupyter-widgets/controls",
            "_model_module_version": "1.5.0",
            "_model_name": "DescriptionStyleModel",
            "_view_count": null,
            "_view_module": "@jupyter-widgets/base",
            "_view_module_version": "1.2.0",
            "_view_name": "StyleView",
            "description_width": ""
          }
        },
        "4bf2157fc7374a56b84e7f4de0b5c7d2": {
          "model_module": "@jupyter-widgets/controls",
          "model_module_version": "1.5.0",
          "model_name": "DescriptionStyleModel",
          "state": {
            "_model_module": "@jupyter-widgets/controls",
            "_model_module_version": "1.5.0",
            "_model_name": "DescriptionStyleModel",
            "_view_count": null,
            "_view_module": "@jupyter-widgets/base",
            "_view_module_version": "1.2.0",
            "_view_name": "StyleView",
            "description_width": ""
          }
        },
        "59dd59d40f7c4290b45920883debdf5d": {
          "model_module": "@jupyter-widgets/base",
          "model_module_version": "1.2.0",
          "model_name": "LayoutModel",
          "state": {
            "_model_module": "@jupyter-widgets/base",
            "_model_module_version": "1.2.0",
            "_model_name": "LayoutModel",
            "_view_count": null,
            "_view_module": "@jupyter-widgets/base",
            "_view_module_version": "1.2.0",
            "_view_name": "LayoutView",
            "align_content": null,
            "align_items": null,
            "align_self": null,
            "border": null,
            "bottom": null,
            "display": null,
            "flex": null,
            "flex_flow": null,
            "grid_area": null,
            "grid_auto_columns": null,
            "grid_auto_flow": null,
            "grid_auto_rows": null,
            "grid_column": null,
            "grid_gap": null,
            "grid_row": null,
            "grid_template_areas": null,
            "grid_template_columns": null,
            "grid_template_rows": null,
            "height": null,
            "justify_content": null,
            "justify_items": null,
            "left": null,
            "margin": null,
            "max_height": null,
            "max_width": null,
            "min_height": null,
            "min_width": null,
            "object_fit": null,
            "object_position": null,
            "order": null,
            "overflow": null,
            "overflow_x": null,
            "overflow_y": null,
            "padding": null,
            "right": null,
            "top": null,
            "visibility": null,
            "width": null
          }
        },
        "5c6242200535413eaa3103b55a527090": {
          "model_module": "@jupyter-widgets/controls",
          "model_module_version": "1.5.0",
          "model_name": "HTMLModel",
          "state": {
            "_dom_classes": [],
            "_model_module": "@jupyter-widgets/controls",
            "_model_module_version": "1.5.0",
            "_model_name": "HTMLModel",
            "_view_count": null,
            "_view_module": "@jupyter-widgets/controls",
            "_view_module_version": "1.5.0",
            "_view_name": "HTMLView",
            "description": "",
            "description_tooltip": null,
            "layout": "IPY_MODEL_e1fb69c9f2464be989fd582bd46ffe1f",
            "placeholder": "​",
            "style": "IPY_MODEL_f9412e7b6b8a46759bddbbc747f3ab2a",
            "value": " 286/286 [00:00&lt;00:00, 13.3kB/s]"
          }
        },
        "608c1492f6df4ba88c8a31d7a7dff601": {
          "model_module": "@jupyter-widgets/controls",
          "model_module_version": "1.5.0",
          "model_name": "DescriptionStyleModel",
          "state": {
            "_model_module": "@jupyter-widgets/controls",
            "_model_module_version": "1.5.0",
            "_model_name": "DescriptionStyleModel",
            "_view_count": null,
            "_view_module": "@jupyter-widgets/base",
            "_view_module_version": "1.2.0",
            "_view_name": "StyleView",
            "description_width": ""
          }
        },
        "6458912ff772421fa236a137eb7bbd03": {
          "model_module": "@jupyter-widgets/controls",
          "model_module_version": "1.5.0",
          "model_name": "ProgressStyleModel",
          "state": {
            "_model_module": "@jupyter-widgets/controls",
            "_model_module_version": "1.5.0",
            "_model_name": "ProgressStyleModel",
            "_view_count": null,
            "_view_module": "@jupyter-widgets/base",
            "_view_module_version": "1.2.0",
            "_view_name": "StyleView",
            "bar_color": null,
            "description_width": ""
          }
        },
        "66df8e1cd0b040e68eaf127e35c23d2a": {
          "model_module": "@jupyter-widgets/controls",
          "model_module_version": "1.5.0",
          "model_name": "ProgressStyleModel",
          "state": {
            "_model_module": "@jupyter-widgets/controls",
            "_model_module_version": "1.5.0",
            "_model_name": "ProgressStyleModel",
            "_view_count": null,
            "_view_module": "@jupyter-widgets/base",
            "_view_module_version": "1.2.0",
            "_view_name": "StyleView",
            "bar_color": null,
            "description_width": ""
          }
        },
        "68c677f0b8f441368e7aa8a1f605c009": {
          "model_module": "@jupyter-widgets/controls",
          "model_module_version": "1.5.0",
          "model_name": "FloatProgressModel",
          "state": {
            "_dom_classes": [],
            "_model_module": "@jupyter-widgets/controls",
            "_model_module_version": "1.5.0",
            "_model_name": "FloatProgressModel",
            "_view_count": null,
            "_view_module": "@jupyter-widgets/controls",
            "_view_module_version": "1.5.0",
            "_view_name": "ProgressView",
            "bar_style": "success",
            "description": "",
            "description_tooltip": null,
            "layout": "IPY_MODEL_ae7353b2bd6f48558fb3fc03d3147bba",
            "max": 1000,
            "min": 0,
            "orientation": "horizontal",
            "style": "IPY_MODEL_d8cc378db6e84f70a6df3ae9f56b206d",
            "value": 1000
          }
        },
        "68ca2eb168194b999514a211f818f8c1": {
          "model_module": "@jupyter-widgets/base",
          "model_module_version": "1.2.0",
          "model_name": "LayoutModel",
          "state": {
            "_model_module": "@jupyter-widgets/base",
            "_model_module_version": "1.2.0",
            "_model_name": "LayoutModel",
            "_view_count": null,
            "_view_module": "@jupyter-widgets/base",
            "_view_module_version": "1.2.0",
            "_view_name": "LayoutView",
            "align_content": null,
            "align_items": null,
            "align_self": null,
            "border": null,
            "bottom": null,
            "display": null,
            "flex": null,
            "flex_flow": null,
            "grid_area": null,
            "grid_auto_columns": null,
            "grid_auto_flow": null,
            "grid_auto_rows": null,
            "grid_column": null,
            "grid_gap": null,
            "grid_row": null,
            "grid_template_areas": null,
            "grid_template_columns": null,
            "grid_template_rows": null,
            "height": null,
            "justify_content": null,
            "justify_items": null,
            "left": null,
            "margin": null,
            "max_height": null,
            "max_width": null,
            "min_height": null,
            "min_width": null,
            "object_fit": null,
            "object_position": null,
            "order": null,
            "overflow": null,
            "overflow_x": null,
            "overflow_y": null,
            "padding": null,
            "right": null,
            "top": null,
            "visibility": null,
            "width": null
          }
        },
        "698c1dda386f459db612184b957c77c1": {
          "model_module": "@jupyter-widgets/controls",
          "model_module_version": "1.5.0",
          "model_name": "HTMLModel",
          "state": {
            "_dom_classes": [],
            "_model_module": "@jupyter-widgets/controls",
            "_model_module_version": "1.5.0",
            "_model_name": "HTMLModel",
            "_view_count": null,
            "_view_module": "@jupyter-widgets/controls",
            "_view_module_version": "1.5.0",
            "_view_name": "HTMLView",
            "description": "",
            "description_tooltip": null,
            "layout": "IPY_MODEL_2e0a79f4bfdb4df282cf9ef56f7eb00c",
            "placeholder": "​",
            "style": "IPY_MODEL_608c1492f6df4ba88c8a31d7a7dff601",
            "value": " 232k/232k [00:00&lt;00:00, 1.45MB/s]"
          }
        },
        "6e1d219ae73a49c9935e5b5e2f85d934": {
          "model_module": "@jupyter-widgets/controls",
          "model_module_version": "1.5.0",
          "model_name": "DescriptionStyleModel",
          "state": {
            "_model_module": "@jupyter-widgets/controls",
            "_model_module_version": "1.5.0",
            "_model_name": "DescriptionStyleModel",
            "_view_count": null,
            "_view_module": "@jupyter-widgets/base",
            "_view_module_version": "1.2.0",
            "_view_name": "StyleView",
            "description_width": ""
          }
        },
        "7983e6c160d94fd691e30b2e9bf777d1": {
          "model_module": "@jupyter-widgets/controls",
          "model_module_version": "1.5.0",
          "model_name": "HBoxModel",
          "state": {
            "_dom_classes": [],
            "_model_module": "@jupyter-widgets/controls",
            "_model_module_version": "1.5.0",
            "_model_name": "HBoxModel",
            "_view_count": null,
            "_view_module": "@jupyter-widgets/controls",
            "_view_module_version": "1.5.0",
            "_view_name": "HBoxView",
            "box_style": "",
            "children": [
              "IPY_MODEL_2fd2f5c93f7b468b920f67f0e19b87c4",
              "IPY_MODEL_a977c653df244c0d90a2abbd303d6ad5",
              "IPY_MODEL_122ef89d1db9429285f53092acae7ba7"
            ],
            "layout": "IPY_MODEL_68ca2eb168194b999514a211f818f8c1"
          }
        },
        "7c9a9331d75941dcbb910292f69a39c8": {
          "model_module": "@jupyter-widgets/base",
          "model_module_version": "1.2.0",
          "model_name": "LayoutModel",
          "state": {
            "_model_module": "@jupyter-widgets/base",
            "_model_module_version": "1.2.0",
            "_model_name": "LayoutModel",
            "_view_count": null,
            "_view_module": "@jupyter-widgets/base",
            "_view_module_version": "1.2.0",
            "_view_name": "LayoutView",
            "align_content": null,
            "align_items": null,
            "align_self": null,
            "border": null,
            "bottom": null,
            "display": null,
            "flex": null,
            "flex_flow": null,
            "grid_area": null,
            "grid_auto_columns": null,
            "grid_auto_flow": null,
            "grid_auto_rows": null,
            "grid_column": null,
            "grid_gap": null,
            "grid_row": null,
            "grid_template_areas": null,
            "grid_template_columns": null,
            "grid_template_rows": null,
            "height": null,
            "justify_content": null,
            "justify_items": null,
            "left": null,
            "margin": null,
            "max_height": null,
            "max_width": null,
            "min_height": null,
            "min_width": null,
            "object_fit": null,
            "object_position": null,
            "order": null,
            "overflow": null,
            "overflow_x": null,
            "overflow_y": null,
            "padding": null,
            "right": null,
            "top": null,
            "visibility": null,
            "width": null
          }
        },
        "9c5baccca2a644e0a8df1f4125e1629e": {
          "model_module": "@jupyter-widgets/controls",
          "model_module_version": "1.5.0",
          "model_name": "HBoxModel",
          "state": {
            "_dom_classes": [],
            "_model_module": "@jupyter-widgets/controls",
            "_model_module_version": "1.5.0",
            "_model_name": "HBoxModel",
            "_view_count": null,
            "_view_module": "@jupyter-widgets/controls",
            "_view_module_version": "1.5.0",
            "_view_name": "HBoxView",
            "box_style": "",
            "children": [
              "IPY_MODEL_e5d031ac075948d895b725ce0ad69828",
              "IPY_MODEL_9eea9dce2ffd4caabc67210de51bd571",
              "IPY_MODEL_3aa7a1d6607b4aa882e177ad4165f0fb"
            ],
            "layout": "IPY_MODEL_d1c917377f5d43c490131134763058c2"
          }
        },
        "9eea9dce2ffd4caabc67210de51bd571": {
          "model_module": "@jupyter-widgets/controls",
          "model_module_version": "1.5.0",
          "model_name": "FloatProgressModel",
          "state": {
            "_dom_classes": [],
            "_model_module": "@jupyter-widgets/controls",
            "_model_module_version": "1.5.0",
            "_model_name": "FloatProgressModel",
            "_view_count": null,
            "_view_module": "@jupyter-widgets/controls",
            "_view_module_version": "1.5.0",
            "_view_name": "ProgressView",
            "bar_style": "success",
            "description": "",
            "description_tooltip": null,
            "layout": "IPY_MODEL_59dd59d40f7c4290b45920883debdf5d",
            "max": 116270890,
            "min": 0,
            "orientation": "horizontal",
            "style": "IPY_MODEL_0f29297d86454baf852aa4c8fff59653",
            "value": 116270890
          }
        },
        "a25c15a8bbb44e3a8a0f83a35fe8541e": {
          "model_module": "@jupyter-widgets/base",
          "model_module_version": "1.2.0",
          "model_name": "LayoutModel",
          "state": {
            "_model_module": "@jupyter-widgets/base",
            "_model_module_version": "1.2.0",
            "_model_name": "LayoutModel",
            "_view_count": null,
            "_view_module": "@jupyter-widgets/base",
            "_view_module_version": "1.2.0",
            "_view_name": "LayoutView",
            "align_content": null,
            "align_items": null,
            "align_self": null,
            "border": null,
            "bottom": null,
            "display": null,
            "flex": null,
            "flex_flow": null,
            "grid_area": null,
            "grid_auto_columns": null,
            "grid_auto_flow": null,
            "grid_auto_rows": null,
            "grid_column": null,
            "grid_gap": null,
            "grid_row": null,
            "grid_template_areas": null,
            "grid_template_columns": null,
            "grid_template_rows": null,
            "height": null,
            "justify_content": null,
            "justify_items": null,
            "left": null,
            "margin": null,
            "max_height": null,
            "max_width": null,
            "min_height": null,
            "min_width": null,
            "object_fit": null,
            "object_position": null,
            "order": null,
            "overflow": null,
            "overflow_x": null,
            "overflow_y": null,
            "padding": null,
            "right": null,
            "top": null,
            "visibility": null,
            "width": null
          }
        },
        "a977c653df244c0d90a2abbd303d6ad5": {
          "model_module": "@jupyter-widgets/controls",
          "model_module_version": "1.5.0",
          "model_name": "FloatProgressModel",
          "state": {
            "_dom_classes": [],
            "_model_module": "@jupyter-widgets/controls",
            "_model_module_version": "1.5.0",
            "_model_name": "FloatProgressModel",
            "_view_count": null,
            "_view_module": "@jupyter-widgets/controls",
            "_view_module_version": "1.5.0",
            "_view_name": "ProgressView",
            "bar_style": "success",
            "description": "",
            "description_tooltip": null,
            "layout": "IPY_MODEL_7c9a9331d75941dcbb910292f69a39c8",
            "max": 1000,
            "min": 0,
            "orientation": "horizontal",
            "style": "IPY_MODEL_66df8e1cd0b040e68eaf127e35c23d2a",
            "value": 1000
          }
        },
        "a9bf7cad8ed74ffb84c56bdc48529a9c": {
          "model_module": "@jupyter-widgets/controls",
          "model_module_version": "1.5.0",
          "model_name": "HBoxModel",
          "state": {
            "_dom_classes": [],
            "_model_module": "@jupyter-widgets/controls",
            "_model_module_version": "1.5.0",
            "_model_name": "HBoxModel",
            "_view_count": null,
            "_view_module": "@jupyter-widgets/controls",
            "_view_module_version": "1.5.0",
            "_view_name": "HBoxView",
            "box_style": "",
            "children": [
              "IPY_MODEL_2b86c3f73e42426e96d0efbf493f235c",
              "IPY_MODEL_68c677f0b8f441368e7aa8a1f605c009",
              "IPY_MODEL_12bc9eab06a24bed8b7a660a2ea56580"
            ],
            "layout": "IPY_MODEL_04dabd226240479494591b587e6cd965"
          }
        },
        "ae7353b2bd6f48558fb3fc03d3147bba": {
          "model_module": "@jupyter-widgets/base",
          "model_module_version": "1.2.0",
          "model_name": "LayoutModel",
          "state": {
            "_model_module": "@jupyter-widgets/base",
            "_model_module_version": "1.2.0",
            "_model_name": "LayoutModel",
            "_view_count": null,
            "_view_module": "@jupyter-widgets/base",
            "_view_module_version": "1.2.0",
            "_view_name": "LayoutView",
            "align_content": null,
            "align_items": null,
            "align_self": null,
            "border": null,
            "bottom": null,
            "display": null,
            "flex": null,
            "flex_flow": null,
            "grid_area": null,
            "grid_auto_columns": null,
            "grid_auto_flow": null,
            "grid_auto_rows": null,
            "grid_column": null,
            "grid_gap": null,
            "grid_row": null,
            "grid_template_areas": null,
            "grid_template_columns": null,
            "grid_template_rows": null,
            "height": null,
            "justify_content": null,
            "justify_items": null,
            "left": null,
            "margin": null,
            "max_height": null,
            "max_width": null,
            "min_height": null,
            "min_width": null,
            "object_fit": null,
            "object_position": null,
            "order": null,
            "overflow": null,
            "overflow_x": null,
            "overflow_y": null,
            "padding": null,
            "right": null,
            "top": null,
            "visibility": null,
            "width": null
          }
        },
        "af112e2bbc504767b369c03fb8ea6b9c": {
          "model_module": "@jupyter-widgets/controls",
          "model_module_version": "1.5.0",
          "model_name": "FloatProgressModel",
          "state": {
            "_dom_classes": [],
            "_model_module": "@jupyter-widgets/controls",
            "_model_module_version": "1.5.0",
            "_model_name": "FloatProgressModel",
            "_view_count": null,
            "_view_module": "@jupyter-widgets/controls",
            "_view_module_version": "1.5.0",
            "_view_name": "ProgressView",
            "bar_style": "success",
            "description": "",
            "description_tooltip": null,
            "layout": "IPY_MODEL_3ee3ff7cf3504d9fabff98c29a0672f5",
            "max": 286,
            "min": 0,
            "orientation": "horizontal",
            "style": "IPY_MODEL_6458912ff772421fa236a137eb7bbd03",
            "value": 286
          }
        },
        "afe450f55d4e4ab8846aa3d0f08c05af": {
          "model_module": "@jupyter-widgets/base",
          "model_module_version": "1.2.0",
          "model_name": "LayoutModel",
          "state": {
            "_model_module": "@jupyter-widgets/base",
            "_model_module_version": "1.2.0",
            "_model_name": "LayoutModel",
            "_view_count": null,
            "_view_module": "@jupyter-widgets/base",
            "_view_module_version": "1.2.0",
            "_view_name": "LayoutView",
            "align_content": null,
            "align_items": null,
            "align_self": null,
            "border": null,
            "bottom": null,
            "display": null,
            "flex": null,
            "flex_flow": null,
            "grid_area": null,
            "grid_auto_columns": null,
            "grid_auto_flow": null,
            "grid_auto_rows": null,
            "grid_column": null,
            "grid_gap": null,
            "grid_row": null,
            "grid_template_areas": null,
            "grid_template_columns": null,
            "grid_template_rows": null,
            "height": null,
            "justify_content": null,
            "justify_items": null,
            "left": null,
            "margin": null,
            "max_height": null,
            "max_width": null,
            "min_height": null,
            "min_width": null,
            "object_fit": null,
            "object_position": null,
            "order": null,
            "overflow": null,
            "overflow_x": null,
            "overflow_y": null,
            "padding": null,
            "right": null,
            "top": null,
            "visibility": null,
            "width": null
          }
        },
        "b1878ed91ce342fc9b641a2b909e01e9": {
          "model_module": "@jupyter-widgets/base",
          "model_module_version": "1.2.0",
          "model_name": "LayoutModel",
          "state": {
            "_model_module": "@jupyter-widgets/base",
            "_model_module_version": "1.2.0",
            "_model_name": "LayoutModel",
            "_view_count": null,
            "_view_module": "@jupyter-widgets/base",
            "_view_module_version": "1.2.0",
            "_view_name": "LayoutView",
            "align_content": null,
            "align_items": null,
            "align_self": null,
            "border": null,
            "bottom": null,
            "display": null,
            "flex": null,
            "flex_flow": null,
            "grid_area": null,
            "grid_auto_columns": null,
            "grid_auto_flow": null,
            "grid_auto_rows": null,
            "grid_column": null,
            "grid_gap": null,
            "grid_row": null,
            "grid_template_areas": null,
            "grid_template_columns": null,
            "grid_template_rows": null,
            "height": null,
            "justify_content": null,
            "justify_items": null,
            "left": null,
            "margin": null,
            "max_height": null,
            "max_width": null,
            "min_height": null,
            "min_width": null,
            "object_fit": null,
            "object_position": null,
            "order": null,
            "overflow": null,
            "overflow_x": null,
            "overflow_y": null,
            "padding": null,
            "right": null,
            "top": null,
            "visibility": null,
            "width": null
          }
        },
        "bd2199687d234e75a296b80106de7d43": {
          "model_module": "@jupyter-widgets/controls",
          "model_module_version": "1.5.0",
          "model_name": "DescriptionStyleModel",
          "state": {
            "_model_module": "@jupyter-widgets/controls",
            "_model_module_version": "1.5.0",
            "_model_name": "DescriptionStyleModel",
            "_view_count": null,
            "_view_module": "@jupyter-widgets/base",
            "_view_module_version": "1.2.0",
            "_view_name": "StyleView",
            "description_width": ""
          }
        },
        "c1459ccbcc1d42fcb55ce7185aed0f39": {
          "model_module": "@jupyter-widgets/controls",
          "model_module_version": "1.5.0",
          "model_name": "DescriptionStyleModel",
          "state": {
            "_model_module": "@jupyter-widgets/controls",
            "_model_module_version": "1.5.0",
            "_model_name": "DescriptionStyleModel",
            "_view_count": null,
            "_view_module": "@jupyter-widgets/base",
            "_view_module_version": "1.2.0",
            "_view_name": "StyleView",
            "description_width": ""
          }
        },
        "c4a968fa0e4848e5928486a25fa469f5": {
          "model_module": "@jupyter-widgets/base",
          "model_module_version": "1.2.0",
          "model_name": "LayoutModel",
          "state": {
            "_model_module": "@jupyter-widgets/base",
            "_model_module_version": "1.2.0",
            "_model_name": "LayoutModel",
            "_view_count": null,
            "_view_module": "@jupyter-widgets/base",
            "_view_module_version": "1.2.0",
            "_view_name": "LayoutView",
            "align_content": null,
            "align_items": null,
            "align_self": null,
            "border": null,
            "bottom": null,
            "display": null,
            "flex": null,
            "flex_flow": null,
            "grid_area": null,
            "grid_auto_columns": null,
            "grid_auto_flow": null,
            "grid_auto_rows": null,
            "grid_column": null,
            "grid_gap": null,
            "grid_row": null,
            "grid_template_areas": null,
            "grid_template_columns": null,
            "grid_template_rows": null,
            "height": null,
            "justify_content": null,
            "justify_items": null,
            "left": null,
            "margin": null,
            "max_height": null,
            "max_width": null,
            "min_height": null,
            "min_width": null,
            "object_fit": null,
            "object_position": null,
            "order": null,
            "overflow": null,
            "overflow_x": null,
            "overflow_y": null,
            "padding": null,
            "right": null,
            "top": null,
            "visibility": null,
            "width": null
          }
        },
        "c928447f04924aaf9c395b25ba8cb543": {
          "model_module": "@jupyter-widgets/controls",
          "model_module_version": "1.5.0",
          "model_name": "DescriptionStyleModel",
          "state": {
            "_model_module": "@jupyter-widgets/controls",
            "_model_module_version": "1.5.0",
            "_model_name": "DescriptionStyleModel",
            "_view_count": null,
            "_view_module": "@jupyter-widgets/base",
            "_view_module_version": "1.2.0",
            "_view_name": "StyleView",
            "description_width": ""
          }
        },
        "cd166c8ea764492f9b46673ce27f6398": {
          "model_module": "@jupyter-widgets/controls",
          "model_module_version": "1.5.0",
          "model_name": "HTMLModel",
          "state": {
            "_dom_classes": [],
            "_model_module": "@jupyter-widgets/controls",
            "_model_module_version": "1.5.0",
            "_model_name": "HTMLModel",
            "_view_count": null,
            "_view_module": "@jupyter-widgets/controls",
            "_view_module_version": "1.5.0",
            "_view_name": "HTMLView",
            "description": "",
            "description_tooltip": null,
            "layout": "IPY_MODEL_f7e0875f7fd647b59ade2f397f7a3328",
            "placeholder": "​",
            "style": "IPY_MODEL_c928447f04924aaf9c395b25ba8cb543",
            "value": "vocab.txt: 100%"
          }
        },
        "d1c917377f5d43c490131134763058c2": {
          "model_module": "@jupyter-widgets/base",
          "model_module_version": "1.2.0",
          "model_name": "LayoutModel",
          "state": {
            "_model_module": "@jupyter-widgets/base",
            "_model_module_version": "1.2.0",
            "_model_name": "LayoutModel",
            "_view_count": null,
            "_view_module": "@jupyter-widgets/base",
            "_view_module_version": "1.2.0",
            "_view_name": "LayoutView",
            "align_content": null,
            "align_items": null,
            "align_self": null,
            "border": null,
            "bottom": null,
            "display": null,
            "flex": null,
            "flex_flow": null,
            "grid_area": null,
            "grid_auto_columns": null,
            "grid_auto_flow": null,
            "grid_auto_rows": null,
            "grid_column": null,
            "grid_gap": null,
            "grid_row": null,
            "grid_template_areas": null,
            "grid_template_columns": null,
            "grid_template_rows": null,
            "height": null,
            "justify_content": null,
            "justify_items": null,
            "left": null,
            "margin": null,
            "max_height": null,
            "max_width": null,
            "min_height": null,
            "min_width": null,
            "object_fit": null,
            "object_position": null,
            "order": null,
            "overflow": null,
            "overflow_x": null,
            "overflow_y": null,
            "padding": null,
            "right": null,
            "top": null,
            "visibility": null,
            "width": null
          }
        },
        "d5ee61e66db1472d85ae9a588f943d76": {
          "model_module": "@jupyter-widgets/base",
          "model_module_version": "1.2.0",
          "model_name": "LayoutModel",
          "state": {
            "_model_module": "@jupyter-widgets/base",
            "_model_module_version": "1.2.0",
            "_model_name": "LayoutModel",
            "_view_count": null,
            "_view_module": "@jupyter-widgets/base",
            "_view_module_version": "1.2.0",
            "_view_name": "LayoutView",
            "align_content": null,
            "align_items": null,
            "align_self": null,
            "border": null,
            "bottom": null,
            "display": null,
            "flex": null,
            "flex_flow": null,
            "grid_area": null,
            "grid_auto_columns": null,
            "grid_auto_flow": null,
            "grid_auto_rows": null,
            "grid_column": null,
            "grid_gap": null,
            "grid_row": null,
            "grid_template_areas": null,
            "grid_template_columns": null,
            "grid_template_rows": null,
            "height": null,
            "justify_content": null,
            "justify_items": null,
            "left": null,
            "margin": null,
            "max_height": null,
            "max_width": null,
            "min_height": null,
            "min_width": null,
            "object_fit": null,
            "object_position": null,
            "order": null,
            "overflow": null,
            "overflow_x": null,
            "overflow_y": null,
            "padding": null,
            "right": null,
            "top": null,
            "visibility": null,
            "width": null
          }
        },
        "d8cc378db6e84f70a6df3ae9f56b206d": {
          "model_module": "@jupyter-widgets/controls",
          "model_module_version": "1.5.0",
          "model_name": "ProgressStyleModel",
          "state": {
            "_model_module": "@jupyter-widgets/controls",
            "_model_module_version": "1.5.0",
            "_model_name": "ProgressStyleModel",
            "_view_count": null,
            "_view_module": "@jupyter-widgets/base",
            "_view_module_version": "1.2.0",
            "_view_name": "StyleView",
            "bar_color": null,
            "description_width": ""
          }
        },
        "e1fb69c9f2464be989fd582bd46ffe1f": {
          "model_module": "@jupyter-widgets/base",
          "model_module_version": "1.2.0",
          "model_name": "LayoutModel",
          "state": {
            "_model_module": "@jupyter-widgets/base",
            "_model_module_version": "1.2.0",
            "_model_name": "LayoutModel",
            "_view_count": null,
            "_view_module": "@jupyter-widgets/base",
            "_view_module_version": "1.2.0",
            "_view_name": "LayoutView",
            "align_content": null,
            "align_items": null,
            "align_self": null,
            "border": null,
            "bottom": null,
            "display": null,
            "flex": null,
            "flex_flow": null,
            "grid_area": null,
            "grid_auto_columns": null,
            "grid_auto_flow": null,
            "grid_auto_rows": null,
            "grid_column": null,
            "grid_gap": null,
            "grid_row": null,
            "grid_template_areas": null,
            "grid_template_columns": null,
            "grid_template_rows": null,
            "height": null,
            "justify_content": null,
            "justify_items": null,
            "left": null,
            "margin": null,
            "max_height": null,
            "max_width": null,
            "min_height": null,
            "min_width": null,
            "object_fit": null,
            "object_position": null,
            "order": null,
            "overflow": null,
            "overflow_x": null,
            "overflow_y": null,
            "padding": null,
            "right": null,
            "top": null,
            "visibility": null,
            "width": null
          }
        },
        "e48e98db656243f3a44db080df2e5942": {
          "model_module": "@jupyter-widgets/base",
          "model_module_version": "1.2.0",
          "model_name": "LayoutModel",
          "state": {
            "_model_module": "@jupyter-widgets/base",
            "_model_module_version": "1.2.0",
            "_model_name": "LayoutModel",
            "_view_count": null,
            "_view_module": "@jupyter-widgets/base",
            "_view_module_version": "1.2.0",
            "_view_name": "LayoutView",
            "align_content": null,
            "align_items": null,
            "align_self": null,
            "border": null,
            "bottom": null,
            "display": null,
            "flex": null,
            "flex_flow": null,
            "grid_area": null,
            "grid_auto_columns": null,
            "grid_auto_flow": null,
            "grid_auto_rows": null,
            "grid_column": null,
            "grid_gap": null,
            "grid_row": null,
            "grid_template_areas": null,
            "grid_template_columns": null,
            "grid_template_rows": null,
            "height": null,
            "justify_content": null,
            "justify_items": null,
            "left": null,
            "margin": null,
            "max_height": null,
            "max_width": null,
            "min_height": null,
            "min_width": null,
            "object_fit": null,
            "object_position": null,
            "order": null,
            "overflow": null,
            "overflow_x": null,
            "overflow_y": null,
            "padding": null,
            "right": null,
            "top": null,
            "visibility": null,
            "width": null
          }
        },
        "e5d031ac075948d895b725ce0ad69828": {
          "model_module": "@jupyter-widgets/controls",
          "model_module_version": "1.5.0",
          "model_name": "HTMLModel",
          "state": {
            "_dom_classes": [],
            "_model_module": "@jupyter-widgets/controls",
            "_model_module_version": "1.5.0",
            "_model_name": "HTMLModel",
            "_view_count": null,
            "_view_module": "@jupyter-widgets/controls",
            "_view_module_version": "1.5.0",
            "_view_name": "HTMLView",
            "description": "",
            "description_tooltip": null,
            "layout": "IPY_MODEL_b1878ed91ce342fc9b641a2b909e01e9",
            "placeholder": "​",
            "style": "IPY_MODEL_4bf2157fc7374a56b84e7f4de0b5c7d2",
            "value": "pytorch_model.bin: 100%"
          }
        },
        "e7e8b0efa69f4e969ccdd162f1b4b00d": {
          "model_module": "@jupyter-widgets/base",
          "model_module_version": "1.2.0",
          "model_name": "LayoutModel",
          "state": {
            "_model_module": "@jupyter-widgets/base",
            "_model_module_version": "1.2.0",
            "_model_name": "LayoutModel",
            "_view_count": null,
            "_view_module": "@jupyter-widgets/base",
            "_view_module_version": "1.2.0",
            "_view_name": "LayoutView",
            "align_content": null,
            "align_items": null,
            "align_self": null,
            "border": null,
            "bottom": null,
            "display": null,
            "flex": null,
            "flex_flow": null,
            "grid_area": null,
            "grid_auto_columns": null,
            "grid_auto_flow": null,
            "grid_auto_rows": null,
            "grid_column": null,
            "grid_gap": null,
            "grid_row": null,
            "grid_template_areas": null,
            "grid_template_columns": null,
            "grid_template_rows": null,
            "height": null,
            "justify_content": null,
            "justify_items": null,
            "left": null,
            "margin": null,
            "max_height": null,
            "max_width": null,
            "min_height": null,
            "min_width": null,
            "object_fit": null,
            "object_position": null,
            "order": null,
            "overflow": null,
            "overflow_x": null,
            "overflow_y": null,
            "padding": null,
            "right": null,
            "top": null,
            "visibility": null,
            "width": null
          }
        },
        "ea95f5ef2c8d47979a30fa54621bb2ac": {
          "model_module": "@jupyter-widgets/base",
          "model_module_version": "1.2.0",
          "model_name": "LayoutModel",
          "state": {
            "_model_module": "@jupyter-widgets/base",
            "_model_module_version": "1.2.0",
            "_model_name": "LayoutModel",
            "_view_count": null,
            "_view_module": "@jupyter-widgets/base",
            "_view_module_version": "1.2.0",
            "_view_name": "LayoutView",
            "align_content": null,
            "align_items": null,
            "align_self": null,
            "border": null,
            "bottom": null,
            "display": null,
            "flex": null,
            "flex_flow": null,
            "grid_area": null,
            "grid_auto_columns": null,
            "grid_auto_flow": null,
            "grid_auto_rows": null,
            "grid_column": null,
            "grid_gap": null,
            "grid_row": null,
            "grid_template_areas": null,
            "grid_template_columns": null,
            "grid_template_rows": null,
            "height": null,
            "justify_content": null,
            "justify_items": null,
            "left": null,
            "margin": null,
            "max_height": null,
            "max_width": null,
            "min_height": null,
            "min_width": null,
            "object_fit": null,
            "object_position": null,
            "order": null,
            "overflow": null,
            "overflow_x": null,
            "overflow_y": null,
            "padding": null,
            "right": null,
            "top": null,
            "visibility": null,
            "width": null
          }
        },
        "eb58a0ef37094426baedc5ee6b93020e": {
          "model_module": "@jupyter-widgets/controls",
          "model_module_version": "1.5.0",
          "model_name": "HTMLModel",
          "state": {
            "_dom_classes": [],
            "_model_module": "@jupyter-widgets/controls",
            "_model_module_version": "1.5.0",
            "_model_name": "HTMLModel",
            "_view_count": null,
            "_view_module": "@jupyter-widgets/controls",
            "_view_module_version": "1.5.0",
            "_view_name": "HTMLView",
            "description": "",
            "description_tooltip": null,
            "layout": "IPY_MODEL_a25c15a8bbb44e3a8a0f83a35fe8541e",
            "placeholder": "​",
            "style": "IPY_MODEL_c1459ccbcc1d42fcb55ce7185aed0f39",
            "value": "config.json: 100%"
          }
        },
        "f78c97329ee44932b3aaf447c8f49a02": {
          "model_module": "@jupyter-widgets/controls",
          "model_module_version": "1.5.0",
          "model_name": "HBoxModel",
          "state": {
            "_dom_classes": [],
            "_model_module": "@jupyter-widgets/controls",
            "_model_module_version": "1.5.0",
            "_model_name": "HBoxModel",
            "_view_count": null,
            "_view_module": "@jupyter-widgets/controls",
            "_view_module_version": "1.5.0",
            "_view_name": "HBoxView",
            "box_style": "",
            "children": [
              "IPY_MODEL_cd166c8ea764492f9b46673ce27f6398",
              "IPY_MODEL_216e00f92cfe4fda963ac90460070b19",
              "IPY_MODEL_698c1dda386f459db612184b957c77c1"
            ],
            "layout": "IPY_MODEL_d5ee61e66db1472d85ae9a588f943d76"
          }
        },
        "f7e0875f7fd647b59ade2f397f7a3328": {
          "model_module": "@jupyter-widgets/base",
          "model_module_version": "1.2.0",
          "model_name": "LayoutModel",
          "state": {
            "_model_module": "@jupyter-widgets/base",
            "_model_module_version": "1.2.0",
            "_model_name": "LayoutModel",
            "_view_count": null,
            "_view_module": "@jupyter-widgets/base",
            "_view_module_version": "1.2.0",
            "_view_name": "LayoutView",
            "align_content": null,
            "align_items": null,
            "align_self": null,
            "border": null,
            "bottom": null,
            "display": null,
            "flex": null,
            "flex_flow": null,
            "grid_area": null,
            "grid_auto_columns": null,
            "grid_auto_flow": null,
            "grid_auto_rows": null,
            "grid_column": null,
            "grid_gap": null,
            "grid_row": null,
            "grid_template_areas": null,
            "grid_template_columns": null,
            "grid_template_rows": null,
            "height": null,
            "justify_content": null,
            "justify_items": null,
            "left": null,
            "margin": null,
            "max_height": null,
            "max_width": null,
            "min_height": null,
            "min_width": null,
            "object_fit": null,
            "object_position": null,
            "order": null,
            "overflow": null,
            "overflow_x": null,
            "overflow_y": null,
            "padding": null,
            "right": null,
            "top": null,
            "visibility": null,
            "width": null
          }
        },
        "f9412e7b6b8a46759bddbbc747f3ab2a": {
          "model_module": "@jupyter-widgets/controls",
          "model_module_version": "1.5.0",
          "model_name": "DescriptionStyleModel",
          "state": {
            "_model_module": "@jupyter-widgets/controls",
            "_model_module_version": "1.5.0",
            "_model_name": "DescriptionStyleModel",
            "_view_count": null,
            "_view_module": "@jupyter-widgets/base",
            "_view_module_version": "1.2.0",
            "_view_name": "StyleView",
            "description_width": ""
          }
        },
        "fc38d8d0c360436eaf963da0eec65468": {
          "model_module": "@jupyter-widgets/controls",
          "model_module_version": "1.5.0",
          "model_name": "HBoxModel",
          "state": {
            "_dom_classes": [],
            "_model_module": "@jupyter-widgets/controls",
            "_model_module_version": "1.5.0",
            "_model_name": "HBoxModel",
            "_view_count": null,
            "_view_module": "@jupyter-widgets/controls",
            "_view_module_version": "1.5.0",
            "_view_name": "HBoxView",
            "box_style": "",
            "children": [
              "IPY_MODEL_eb58a0ef37094426baedc5ee6b93020e",
              "IPY_MODEL_af112e2bbc504767b369c03fb8ea6b9c",
              "IPY_MODEL_5c6242200535413eaa3103b55a527090"
            ],
            "layout": "IPY_MODEL_3222bc39e6f04a13b92282b1e9a96b3b"
          }
        }
      }
    }
  },
  "nbformat": 4,
  "nbformat_minor": 0
}
