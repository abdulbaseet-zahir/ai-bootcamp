{
 "cells": [
  {
   "cell_type": "markdown",
   "metadata": {},
   "source": [
    "<img src=\"../images/cover.jpg\" width=\"1920\"/>"
   ]
  },
  {
   "cell_type": "markdown",
   "metadata": {},
   "source": [
    "# Word Embedding\n",
    "\n",
    "Word embedding is a technique in natural language processing (NLP) where words or phrases from the vocabulary are mapped to dense, continuous vectors of real numbers. These vectors capture semantic relationships between words, such that words with similar meanings are represented by vectors that are close together in the vector space."
   ]
  },
  {
   "cell_type": "markdown",
   "metadata": {},
   "source": [
    "<img src=\"../images/word_embeddings.png\" width=\"700\"/>"
   ]
  },
  {
   "cell_type": "code",
   "execution_count": 1,
   "metadata": {},
   "outputs": [],
   "source": [
    "import torch\n",
    "import torch.nn as nn"
   ]
  },
  {
   "cell_type": "code",
   "execution_count": 2,
   "metadata": {},
   "outputs": [],
   "source": [
    "# Toy dataset with sentences\n",
    "sentences = [\n",
    "    \"I love deep learning\",\n",
    "    \"Word embeddings are great\",\n",
    "    \"Deep learning is amazing\",\n",
    "    \"Natural language processing is fun\",\n",
    "]"
   ]
  },
  {
   "cell_type": "code",
   "execution_count": null,
   "metadata": {},
   "outputs": [],
   "source": [
    "# Tokenize sentences (simplified tokenization for this example)\n",
    "tokenized_sentences = [sentence.lower().split() for sentence in sentences]\n",
    "print(f\"Tokenized Sentences: {tokenized_sentences}\")"
   ]
  },
  {
   "cell_type": "markdown",
   "metadata": {},
   "source": [
    "We need to create a vocabulary for our toy dataset and map each word to an index."
   ]
  },
  {
   "cell_type": "code",
   "execution_count": 4,
   "metadata": {},
   "outputs": [],
   "source": [
    "# Build vocabulary (assigning unique indices to each word)\n",
    "vocab = set(word for sentence in tokenized_sentences for word in sentence)\n",
    "word_to_index = {word: idx for idx, word in enumerate(vocab)}\n",
    "index_to_word = {idx: word for word, idx in word_to_index.items()}"
   ]
  },
  {
   "cell_type": "code",
   "execution_count": null,
   "metadata": {},
   "outputs": [],
   "source": [
    "# Example vocabulary\n",
    "print(f\"Vocabulary: {vocab}\")\n",
    "print(f\"Word to Index Mapping: {word_to_index}\")"
   ]
  },
  {
   "cell_type": "markdown",
   "metadata": {},
   "source": [
    "We will initialize an nn.Embedding layer with a vocabulary size equal to the number of unique words and an embedding dimension of 5."
   ]
  },
  {
   "cell_type": "code",
   "execution_count": null,
   "metadata": {},
   "outputs": [],
   "source": [
    "# Define embedding dimension and initialize nn.Embedding\n",
    "embedding_dim = 5\n",
    "embedding_layer = nn.Embedding(len(vocab), embedding_dim)"
   ]
  },
  {
   "cell_type": "markdown",
   "metadata": {},
   "source": [
    "We will now extract the embeddings for some words from our toy vocabulary using the `embedding_layer`."
   ]
  },
  {
   "cell_type": "code",
   "execution_count": null,
   "metadata": {},
   "outputs": [],
   "source": [
    "# Select some words and print their embeddings\n",
    "words_to_embed = [\"deep\", \"learning\", \"love\"]\n",
    "word_indices = [word_to_index[word] for word in words_to_embed]\n",
    "\n",
    "# Get embeddings for the selected words\n",
    "word_embeddings = embedding_layer(torch.tensor(word_indices))\n",
    "print(f\"Embeddings for words {words_to_embed}: {word_embeddings}\")"
   ]
  },
  {
   "cell_type": "markdown",
   "metadata": {},
   "source": [
    "Embedding is useful when you want to represent words and sentences as dense vectors for use in various NLP tasks like classification, translation, or sentiment analysis."
   ]
  },
  {
   "cell_type": "markdown",
   "metadata": {},
   "source": []
  }
 ],
 "metadata": {
  "kernelspec": {
   "display_name": "venv",
   "language": "python",
   "name": "python3"
  },
  "language_info": {
   "codemirror_mode": {
    "name": "ipython",
    "version": 3
   },
   "file_extension": ".py",
   "mimetype": "text/x-python",
   "name": "python",
   "nbconvert_exporter": "python",
   "pygments_lexer": "ipython3",
   "version": "3.12.8"
  }
 },
 "nbformat": 4,
 "nbformat_minor": 2
}
