{
 "cells": [
  {
   "cell_type": "markdown",
   "metadata": {},
   "source": [
    "# BERT\n",
    "- **Objective:**\n",
    "  - Understand the architecture and use cases of BERT (Bidirectional Encoder Representations from Transformers).\n",
    "- **Topics Covered:**\n",
    "  - Pre-training objectives: **Masked Language Modeling (MLM)** and **Next Sentence Prediction (NSP)**.\n",
    "  - Key features: \n",
    "    - Bidirectional context.\n",
    "    - Token-level embeddings for tasks like classification and NER.\n",
    "  - Variants of BERT (e.g., DistilBERT, RoBERTa).\n",
    "- **Practical Component:**\n",
    "  - Load a pre-trained BERT model from HuggingFace.\n",
    "  - Perform a simple text classification task."
   ]
  },
  {
   "cell_type": "code",
   "execution_count": null,
   "metadata": {},
   "outputs": [],
   "source": [
    "from transformers import BertTokenizer, BertForSequenceClassification\n",
    "\n",
    "tokenizer = BertTokenizer.from_pretrained(\"bert-base-uncased\")\n",
    "model = BertForSequenceClassification.from_pretrained(\"bert-base-uncased\")\n",
    "\n",
    "inputs = tokenizer(\"The movie was fantastic!\", return_tensors=\"pt\")\n",
    "outputs = model(**inputs)\n",
    "print(outputs.logits)"
   ]
  },
  {
   "cell_type": "markdown",
   "metadata": {},
   "source": [
    "# GPT\n",
    "- **Objective:**\n",
    "  - Explore the GPT family of models and their generative capabilities.\n",
    "- **Topics Covered:**\n",
    "  - Pre-training objective: **Causal Language Modeling (CLM)**.\n",
    "  - Differences from BERT:\n",
    "    - Autoregressive nature.\n",
    "    - Focus on text generation.\n",
    "  - Applications: Chatbots, summarization, and text completion.\n",
    "  - Variants: GPT, GPT-2, GPT-3, GPT-4.\n",
    "- **Practical Component:**\n",
    "  - Load a GPT model for text generation.|"
   ]
  },
  {
   "cell_type": "code",
   "execution_count": null,
   "metadata": {},
   "outputs": [],
   "source": [
    "from transformers import GPT2Tokenizer, GPT2LMHeadModel\n",
    "\n",
    "tokenizer = GPT2Tokenizer.from_pretrained(\"gpt2\")\n",
    "model = GPT2LMHeadModel.from_pretrained(\"gpt2\")\n",
    "\n",
    "input_text = \"Once upon a time\"\n",
    "inputs = tokenizer(input_text, return_tensors=\"pt\")\n",
    "outputs = model.generate(inputs.input_ids, max_length=50, num_return_sequences=1)\n",
    "print(tokenizer.decode(outputs[0], skip_special_tokens=True))"
   ]
  },
  {
   "cell_type": "markdown",
   "metadata": {},
   "source": [
    "- **BERT** excels at understanding contexts for tasks like classification and NER.\n",
    "- **GPT** is the go-to model for text generation."
   ]
  },
  {
   "cell_type": "markdown",
   "metadata": {},
   "source": [
    "> **Note**: Training a language model from scratch requires significant computational resources but is a valuable learning experience.\n"
   ]
  },
  {
   "cell_type": "markdown",
   "metadata": {},
   "source": []
  }
 ],
 "metadata": {
  "kernelspec": {
   "display_name": "venv",
   "language": "python",
   "name": "python3"
  },
  "language_info": {
   "name": "python",
   "version": "3.12.7"
  }
 },
 "nbformat": 4,
 "nbformat_minor": 2
}
